{
 "cells": [
  {
   "cell_type": "code",
   "execution_count": null,
   "id": "b2837812-ca7f-45a6-bdd2-a92bb5f39911",
   "metadata": {},
   "outputs": [],
   "source": [
    "#Q1. Which keyword is used to create a function? Create a function to return a list of odd numbers in the range of 1 to 25\n",
    "# def keyword is used to create function followed by function name bracket colon and then body of function.\n",
    "#  Fucntion to return list of odd no in range 1 to 25\n",
    "def odd():\n",
    "    l_odd=[x for x in range(1,25) if x %2==1]\n",
    "    return l_odd\n",
    "odd()"
   ]
  },
  {
   "cell_type": "code",
   "execution_count": null,
   "id": "bbdc4ac4-9549-4208-8852-af4e1b97a1d9",
   "metadata": {},
   "outputs": [],
   "source": [
    "#Q2. Why *args and **kwargs is used in some functions? Create a function each for *args and **kwargs to demonstrate their use.\n",
    "#We use *args and **kwargs as an argument when we are unsure about the number of arguments to pass in the functions.\n",
    "#we use *args when we want to pass non keyword arguments.\n",
    "# Using **kwargs arguments are passed as a dictionary and these arguments make a dictionary inside function with name same as the parameter excluding double asterisk **.\n",
    "\n",
    "#for *args to add no\n",
    "def adder(*args):\n",
    "    sum=0\n",
    "    for x in args:\n",
    "        sum+=x\n",
    "    return sum\n",
    "print(\"sum by *args=\",adder(1,2,3,4))\n",
    "#for **kwargs to return dictionary\n",
    "def func(**kwargs):\n",
    "    return kwargs\n",
    "print(\"Dict return by **kwargs:\",func(name=\"mahesh\",age=20,gender=\"male\"))"
   ]
  },
  {
   "cell_type": "code",
   "execution_count": null,
   "id": "5a9b82aa-3b4d-469c-b318-e6658ae59188",
   "metadata": {},
   "outputs": [],
   "source": [
    "#Q3. What is an iterator in python? Name the method used to initialise the iterator object and the method used for iteration.\n",
    "#Use these methods to print the first five elements of the given list [2, 4, 6, 8, 10, 12, 14, 16, 18, 20].\n",
    "\n",
    "#Iterator are methods with the help of which we can iterator over object and return their elements.\n",
    "#iter() function is used to create iterator object and next() is the method used for iteration.\n",
    "l=[1,2,3,4,5]#this is a list\n",
    "i=iter(l)#here we make i as iterator of list l\n",
    "for x in range(len(l)):\n",
    "    print(next(i))#here get element using next function"
   ]
  },
  {
   "cell_type": "code",
   "execution_count": null,
   "id": "7aa950c7-8c8b-435d-a0a0-86233b6eb3cd",
   "metadata": {},
   "outputs": [],
   "source": [
    "#Q4. What is a generator function in python? Why yield keyword is used? Give an example of a generator function.\n",
    "#A generator function is defined using the def keyword, but instead of the return statement we use the yield statement in it.\n",
    "#When the generator function is called, it does not execute the function body immediately. \n",
    "#Instead,it returns a generator object that can be iterated over to produce the values.\n",
    "#The yield keyword is used to produce a value from the generator.\n",
    "#eg-\n",
    "def fib():\n",
    "    \"\"\"Fibonacci function\"\"\"\n",
    "    a,b=0,1\n",
    "    while True:\n",
    "        yield a\n",
    "        a,b=b,a+b\n",
    "f=fib()#generator created\n",
    "for i in range(10):\n",
    "print(next(f),end=\" \")#uses next moves to next\n"
   ]
  },
  {
   "cell_type": "code",
   "execution_count": null,
   "id": "100b1d10-c850-46f4-9407-65f11dc94e64",
   "metadata": {},
   "outputs": [],
   "source": [
    "#Q5. Create a generator function for prime numbers less than 1000. Use the next() method to print the first 20 prime numbers.\n",
    "def is_prime(n):\n",
    "    if n<2:\n",
    "        return False\n",
    "    for i in range(2,int(n**0.5)+1):#to reduce check time\n",
    "        if n%i==0:\n",
    "            return False\n",
    "    return True\n",
    "def pgenerator():\n",
    "    num=2\n",
    "    while num<1000:\n",
    "        if is_prime(num):\n",
    "            yield num\n",
    "        num+=1\n",
    "#creating generator\n",
    "prime=pgenerator()\n",
    "print([next(prime) for _ in range(25)])\n",
    "#display first 25 prime"
   ]
  },
  {
   "cell_type": "code",
   "execution_count": null,
   "id": "a61fd0b4-1583-4457-bde6-29fd6b9d0762",
   "metadata": {},
   "outputs": [],
   "source": [
    "#Q6. Write a python program to print the first 10 Fibonacci numbers using a while loop.\n",
    "a,b=0,1\n",
    "i=0\n",
    "while i<10:\n",
    "    print(a,end=\" \")\n",
    "    a,b=b,a+b\n",
    "    i+=1"
   ]
  },
  {
   "cell_type": "code",
   "execution_count": 11,
   "id": "8ccdb847-79d7-48c8-be69-c74e51ee7fea",
   "metadata": {},
   "outputs": [
    {
     "name": "stdout",
     "output_type": "stream",
     "text": [
      "['p', 'w', 's', 'k', 'i', 'l', 'l', 's']\n"
     ]
    }
   ],
   "source": [
    "#Q7. Write a List Comprehension to iterate through the given string: ‘pwskills’. Expected output: ['p', 'w', 's', 'k', 'i', 'l', 'l', 's']\n",
    "s=\"pwskills\"\n",
    "l=[i for i in s]\n",
    "print(l)"
   ]
  },
  {
   "cell_type": "code",
   "execution_count": 7,
   "id": "fa3bd1ad-200e-4a60-87c0-90096349b890",
   "metadata": {},
   "outputs": [
    {
     "name": "stdin",
     "output_type": "stream",
     "text": [
      "Enter a number: 121\n"
     ]
    },
    {
     "data": {
      "text/plain": [
       "True"
      ]
     },
     "execution_count": 7,
     "metadata": {},
     "output_type": "execute_result"
    }
   ],
   "source": [
    "#Q8. Write a python program to check whether a given number is Palindrome or not using a while loop.\n",
    "num=int(input(\"Enter a number:\"))\n",
    "def palindrome(num):\n",
    "    temp=num\n",
    "    rev=0\n",
    "    while(num>0):\n",
    "        dig=num%10\n",
    "        rev=rev*10+dig\n",
    "        num=num//10\n",
    "    if(temp==rev):\n",
    "        return True\n",
    "    else:\n",
    "        return False\n",
    "palindrome(num)"
   ]
  },
  {
   "cell_type": "code",
   "execution_count": 10,
   "id": "ec928d3d-f075-4c21-8dc1-4a7c568ed5c6",
   "metadata": {},
   "outputs": [
    {
     "name": "stdout",
     "output_type": "stream",
     "text": [
      "[1, 3, 5, 7, 9, 11, 13, 15, 17, 19, 21, 23, 25, 27, 29, 31, 33, 35, 37, 39, 41, 43, 45, 47, 49, 51, 53, 55, 57, 59, 61, 63, 65, 67, 69, 71, 73, 75, 77, 79, 81, 83, 85, 87, 89, 91, 93, 95, 97, 99]\n"
     ]
    }
   ],
   "source": [
    "#Q9. Write a code to print odd numbers from 1 to 100 using list comprehension.\n",
    "l=list(range(1,100))\n",
    "l_odd=[i for i in l if i%2==1]\n",
    "print(l_odd)"
   ]
  }
 ],
 "metadata": {
  "kernelspec": {
   "display_name": "Python 3 (ipykernel)",
   "language": "python",
   "name": "python3"
  },
  "language_info": {
   "codemirror_mode": {
    "name": "ipython",
    "version": 3
   },
   "file_extension": ".py",
   "mimetype": "text/x-python",
   "name": "python",
   "nbconvert_exporter": "python",
   "pygments_lexer": "ipython3",
   "version": "3.10.8"
  }
 },
 "nbformat": 4,
 "nbformat_minor": 5
}
