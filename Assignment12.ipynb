{
 "cells": [
  {
   "cell_type": "code",
   "execution_count": null,
   "metadata": {},
   "outputs": [],
   "source": [
    "#Q1. What is a database? Differentiate between SQL and NoSQL databases.\n",
    "\"\"\"A database is an organized collection of structured data,information. SQL is a structured query langauge and it is a relational database and used \n",
    "handle complex queries whereas NoSQL is a unstructured query language and it is not realtional database and it is not so good in handling complex\n",
    "queries. Eg of SQL is MySQL,Oracle etc and eg of NoSQL is MongoDB, Cassandra etc.\"\"\""
   ]
  },
  {
   "cell_type": "code",
   "execution_count": null,
   "metadata": {},
   "outputs": [],
   "source": [
    "#Q2. What is DDL? Explain why CREATE, DROP, ALTER, and TRUNCATE are used with an example.\n",
    "\"\"\"DDL stands for Data Definition Language.The DDL commands in SQL are used to create and modify schemas in a database and its objects.\n",
    "1.CREATE- This command is used to create database,table etc.\n",
    "   eg-  CREATE TABLE table_name;\n",
    "2.DROP- This command is used to delete or remove database objects from SQL database.\n",
    "   eg-  DROP TABLE tablr_name;\n",
    "3.ALTER- This command is used to change or modify database objects from SQL database.\n",
    "   eg-  ALTER TABLE table_name ADD column_name type;\n",
    "4.TRUNCATE- This command is used to delete or remove record from a table.\n",
    "   eg-  TRUNCATE TABLE table_name;\n"
   ]
  },
  {
   "cell_type": "code",
   "execution_count": null,
   "metadata": {},
   "outputs": [],
   "source": [
    "#Q3. What is DML? Explain INSERT, UPDATE, and DELETE with an example.\n",
    "\"\"\"DML stands for Data Manipulation Language.DML commands are used to store,modify,update or delete the exisiting records from a database.\n",
    "1.INSERT- This command allows user to add data in database tables.\n",
    "   eg-  INSERT INTO table_name(column_names) VALUES (values);\n",
    "2.UPDATE- This command is used to update or modify exisiting data in a table.\n",
    "   eg- UPDATE table_name SET column_name WHERE condition;\n",
    "3.DELETE- This command is used to delete single or multiple records from a database table.\n",
    "   eg-  DELETE FROM table_name WHERE conditon;\"\"\""
   ]
  },
  {
   "cell_type": "code",
   "execution_count": null,
   "metadata": {},
   "outputs": [],
   "source": [
    "#Q4. What is DQL? Explain SELECT with an example.\n",
    "\"\"\"DQL stands for Data Query Language.It is used to fetch data from the database.\n",
    "SELECT-This commmand is used to select and fetch data from the database.4\n",
    "  eg- SELECT * FROM table_name;//THis select whole data from the table\"\"\""
   ]
  },
  {
   "cell_type": "code",
   "execution_count": null,
   "metadata": {},
   "outputs": [],
   "source": [
    "#Q5. Explain Primary Key and Foreign Key.\n",
    "\"\"\"PRIMARY KEY-A primary key is a column (or set of columns) in a table that uniquely identifies each row in the table. \n",
    "   It cannot contain null values and must be unique across all rows in the table. Only one primary key is allowed in a table. \n",
    "   FOREIGN KEY-A foreign key is a column (or set of columns) in a table that refers to the primary key in another table. \n",
    "   It is used to establish a link between the two tables and is used to enforce referential integrity in the database.\n",
    "   \"\"\"\n"
   ]
  },
  {
   "cell_type": "code",
   "execution_count": null,
   "metadata": {},
   "outputs": [],
   "source": [
    "#Q6. Write a python code to connect MySQL to python. Explain the cursor() and execute() method.'\n",
    "import mysql.connector\n",
    "mydb=mysql.connector.connect(\n",
    "    hostname=\"localhost\",\n",
    "    user=\"abc\",\n",
    "    password=\"password\"\n",
    ")\n",
    "mycursor=mydb.cursor()\n",
    "# A cursor is an object which helps to execute the query and fetch the records from the database. \n",
    "# The cursor plays a very important role in executing the query.\n",
    "mycursor.execute(\"CREATE DATABASE if not exists test2\")#this is command to create databse \n",
    "#execute() is used to accept a MySQL query as paramter and execute it\n"
   ]
  },
  {
   "cell_type": "code",
   "execution_count": null,
   "metadata": {},
   "outputs": [],
   "source": [
    "#Q7. Give the order of execution of SQL clauses in an SQL query.\n",
    "\"\"\"\n",
    "ORDER OF EXECTION OF CLAUSES IN QUERY:\n",
    "FROM/JOIN->WHERE->GROUP BY->HAVING->SELECT->ORDER BY->LIMIT/OFFSET\"\"\""
   ]
  }
 ],
 "metadata": {
  "language_info": {
   "name": "python"
  },
  "orig_nbformat": 4
 },
 "nbformat": 4,
 "nbformat_minor": 2
}
