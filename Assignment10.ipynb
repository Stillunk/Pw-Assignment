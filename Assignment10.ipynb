{
 "cells": [
  {
   "cell_type": "code",
   "execution_count": 1,
   "id": "3bdcb475-5b51-4d92-a21c-a34ce9c98ccf",
   "metadata": {},
   "outputs": [
    {
     "data": {
      "text/plain": [
       "'Multithreading is a process of running multiple thread in a single process.import multiprocessing.It enables efficient utilization \\nof the resources as the threads share the data space and memory.\\nthe  module used to handle threads in python is threading.'"
      ]
     },
     "execution_count": 1,
     "metadata": {},
     "output_type": "execute_result"
    }
   ],
   "source": [
    "#Q1 What is multithreading in python? Why is it used? Name the module used to handle threads in python\n",
    "\"\"\"Multithreading is a process of running multiple thread in a single process.import multiprocessing.It enables efficient utilization \n",
    "of the resources as the threads share the data space and memory.\n",
    "the  module used to handle threads in python is threading.\"\"\"\n"
   ]
  },
  {
   "cell_type": "code",
   "execution_count": null,
   "id": "344cb8da-1db2-44ea-bb34-0bf0d576f985",
   "metadata": {},
   "outputs": [],
   "source": [
    "#Q2 Why threading module used? Write the use of the following functions 1.activeCount() 2.currentThread 3.enumerate()\n",
    "\"\"\"The threading module in Python is used to create and manage threads, which are small units of a process that can run concurrently. \n",
    "Threads allow you to perform multiple tasks at the same time,making it possible to handle concurrent operations efficiently.\n",
    "1.activeCount() is a function that returns the number of active Thread objects in the current program. \n",
    "2.currentThread() is a function that returns the Thread object corresponding to the currently executing thread.\n",
    "3.enumerate() is a function that returns a list of all active Thread objects in the current program\"\"\""
   ]
  },
  {
   "cell_type": "code",
   "execution_count": 3,
   "id": "3b0bf562-b1ad-4a5f-88e0-264ece354332",
   "metadata": {},
   "outputs": [
    {
     "data": {
      "text/plain": [
       "\"The run() method is the entry point for the thread's activity. It is executed when you call the start() method on a Thread object.\\nThe start() method is used to start the execution of the thread.\\nThe join() method is used to wait for the thread to complete its execution. It blocks the calling thread until the target thread finishes.\\nThe isAlive() method is used to check if a thread is currently running or active. \""
      ]
     },
     "execution_count": 3,
     "metadata": {},
     "output_type": "execute_result"
    }
   ],
   "source": [
    "#Q3Explain the following functions 1.run() 2.start() 3.join() 4.isAlive()\n",
    "\"\"\"The run() method is the entry point for the thread's activity. It is executed when you call the start() method on a Thread object.\n",
    "The start() method is used to start the execution of the thread.\n",
    "The join() method is used to wait for the thread to complete its execution. It blocks the calling thread until the target thread finishes.\n",
    "The isAlive() method is used to check if a thread is currently running or active. \"\"\""
   ]
  },
  {
   "cell_type": "code",
   "execution_count": 8,
   "id": "6bd3f1c3-0709-47e6-af58-bbddb4784caf",
   "metadata": {},
   "outputs": [
    {
     "name": "stdout",
     "output_type": "stream",
     "text": [
      "square is: [1, 4, 9, 16]\n",
      "Cube is: [1, 8, 27, 64]\n"
     ]
    }
   ],
   "source": [
    "#4.Write a python program to create two threads. Thread one must print the list of squares and thread two must print the list of cubes\n",
    "import threading\n",
    "def sq(n):            #for square\n",
    "    square=[i**2 for i in n]\n",
    "    print(\"square is:\",square)\n",
    "\n",
    "def cubes(n):\n",
    "    cube=[i**3 for i in n]\n",
    "    print(\"Cube is:\",cube)\n",
    "\n",
    "l=[1,2,3,4]\n",
    "s=threading.Thread(target=sq, args=(l,))\n",
    "c=threading.Thread(target=cubes, args=(l,))\n",
    "s.start()\n",
    "c.start()"
   ]
  },
  {
   "cell_type": "code",
   "execution_count": null,
   "id": "123b1c2b-8856-4ff1-9020-dc4d73c080f2",
   "metadata": {},
   "outputs": [],
   "source": [
    "#Q5 State advantages and disadvantages of multithreading.\n",
    "\"\"\"Advantages are- 1.concurruncy and responsiveness\n",
    "                   2.Memory and resource utilization\n",
    "                   3.improved performance\n",
    "   Disadvantages are-1.Complexity\n",
    "                     2.Deadlocks and race conditions\n",
    "                     3.Global Interpreter Lock"
   ]
  },
  {
   "cell_type": "code",
   "execution_count": null,
   "id": "73a874ea-4eef-4566-af7e-df898d5815a3",
   "metadata": {},
   "outputs": [],
   "source": [
    "#Q6. Explain deadlocks and race conditions.\n",
    "\"\"\"Deadlock is a situation in concurrent programming where two or more threads or processes are unable to proceed with their execution \n",
    "because each of them is waiting for the other to release a resource that they need.\n",
    "Race conditions can lead to incorrect program behavior, data corruption, or other unexpected results.\n",
    "They arise when shared resources are not properly synchronized, and multiple threads try to read and write to these resources without coordination.\"\"\""
   ]
  }
 ],
 "metadata": {
  "kernelspec": {
   "display_name": "Python 3 (ipykernel)",
   "language": "python",
   "name": "python3"
  },
  "language_info": {
   "codemirror_mode": {
    "name": "ipython",
    "version": 3
   },
   "file_extension": ".py",
   "mimetype": "text/x-python",
   "name": "python",
   "nbconvert_exporter": "python",
   "pygments_lexer": "ipython3",
   "version": "3.10.8"
  }
 },
 "nbformat": 4,
 "nbformat_minor": 5
}
