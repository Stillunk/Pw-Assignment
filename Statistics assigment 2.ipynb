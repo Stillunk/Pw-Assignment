{
 "cells": [
  {
   "cell_type": "markdown",
   "id": "a21c3d2d-ca19-4736-bc76-ce4478c35619",
   "metadata": {},
   "source": [
    "Q1. What are the three measures of central tendency?\n",
    "\n",
    "A1-The three measures of central tendency are:\n",
    "\n",
    "1. Mean: The mean is the average of a dataset, calculated by adding up all the values in the dataset and then dividing by the number of values. It is a common measure of central tendency used in statistics.\n",
    "\n",
    "2. Median: The median is the middle value in a dataset when the values are arranged in order from lowest to highest. It is a good measure of central tendency to use when the dataset has extreme values or is not normally distributed.\n",
    "\n",
    "3. Mode: The mode is the value that appears most frequently in a dataset. It is a useful measure of central tendency when dealing with categorical data or looking for the most common value in a dataset.\n"
   ]
  },
  {
   "cell_type": "markdown",
   "id": "b8b76a57-990c-48d8-8ff8-8a08581c9ebd",
   "metadata": {},
   "source": [
    "Q2. What is the difference between the mean, median, and mode? How are they used to measure the central tendency of a dataset?\n",
    "\n",
    "A2-The mean is the sum of all the values in a dataset divided by the number of values. It is sometimes referred to as the average. To calculate the mean, you add up all the values in a dataset and divide by the number of values.\n",
    "\n",
    "The median is the middle value in a dataset when the values are arranged in order from lowest to highest. To find the median, you list all the values in order and select the middle value. If the dataset has an even number of values, then the median is the average of the two middle values.\n",
    "\n",
    "The mode is the value that appears most frequently in a dataset. If no value appears more frequently than any other, then the dataset has no mode.\n",
    "\n",
    "The choice of which measure of central tendency to use depends on the type of data-:\n",
    "\n",
    "The mean is a good measure to use when the data is normally distributed or when the dataset does not have any extreme values. It is sensitive to outliers, which can affect its value.\n",
    "\n",
    "The median is a good measure to use when the data is not normally distributed or when there are extreme values that would affect the mean. It is not sensitive to outliers, which makes it a more robust measure of central tendency.\n",
    "\n",
    "The mode is useful when looking for the most common value or when dealing with categorical data"
   ]
  },
  {
   "cell_type": "markdown",
   "id": "34b02278-6e8b-4489-836f-bd979e1772fd",
   "metadata": {},
   "source": [
    "Q3. Measure the three measures of central tendency for the given height data: [178,177,176,177,178.2,178,175,179,180,175,178.9,176.2,177,172.5,178,176.5]\n",
    "\n"
   ]
  },
  {
   "cell_type": "code",
   "execution_count": 6,
   "id": "63ce73a0",
   "metadata": {},
   "outputs": [
    {
     "name": "stdout",
     "output_type": "stream",
     "text": [
      "Mean for given height data is 177.01875\n",
      "Median for given height data is 177.0\n",
      "Mode for given height data is 177.0\n"
     ]
    }
   ],
   "source": [
    "#A3-1. Mean:\n",
    "heights = [178,177,176,177,178.2,178,175,179,180,175,178.9,176.2,177,172.5,178,176.5]\n",
    "import numpy as np\n",
    "heights_mean = np.mean(heights)\n",
    "print(f'Mean for given height data is {heights_mean}')\n",
    "\n",
    "#2. Median:\n",
    "heights_median = np.median(heights)\n",
    "print(f'Median for given height data is {heights_median}')\n",
    "#3. Mode:\n",
    "from scipy.stats import mode\n",
    "heights_mode = mode(heights,keepdims=False)\n",
    "print(f'Mode for given height data is {heights_mode[0]}')\n"
   ]
  },
  {
   "cell_type": "markdown",
   "id": "349f0e92-20b8-4c84-844d-1a89bb8daf40",
   "metadata": {},
   "source": [
    "Q4. Find the standard deviation for the given data:[178,177,176,177,178.2,178,175,179,180,175,178.9,176.2,177,172.5,178,176.5]"
   ]
  },
  {
   "cell_type": "code",
   "execution_count": 3,
   "id": "210df6e5",
   "metadata": {},
   "outputs": [
    {
     "name": "stdout",
     "output_type": "stream",
     "text": [
      "Standard Deviation for give data is 1.7886\n"
     ]
    }
   ],
   "source": [
    "#A4-\n",
    "import numpy as np\n",
    "data = [178,177,176,177,178.2,178,175,179,180,175,178.9,176.2,177,172.5,178,176.5]\n",
    "data_std = np.std(data)\n",
    "print(f'Standard Deviation for give data is {round(data_std,4)}')"
   ]
  },
  {
   "cell_type": "markdown",
   "id": "45156769-7fbd-4b74-98c5-ae02fd9bf7a3",
   "metadata": {},
   "source": [
    "Q5. How are measures of dispersion such as range, variance, and standard deviation used to describe the spread of a dataset? Provide an example.\n",
    "\n",
    "A5-Measures of dispersion such as range, variance, and standard deviation are used to describe the spread or variability of a dataset. They provide information on how much the data points deviate from the central tendency of the dataset.\n",
    "\n",
    "The range is the simplest measure of dispersion and represents the difference between the largest and smallest values in the dataset. However, it is affected by outliers and can be misleading if there are extreme values.\n",
    "\n",
    "The variance and standard deviation are more robust measures of dispersion that take into account the deviation of each data point from the mean. The variance is calculated by taking the average of the squared deviations, while the standard deviation is the square root of the variance. The standard deviation is often used because it has the same units as the original data and provides a measure of how far each data point is from the mean.\n",
    "\n",
    "For example, consider two datasets:\n",
    "\n",
    "Dataset 1: [2, 4, 6, 8, 10]\n",
    "Dataset 2: [1, 1, 7, 7, 7]\n",
    "\n",
    "Both datasets have the same mean of 6, but they have different spreads. Dataset 1 has a range of 8 and a standard deviation of approximately 2.83, indicating that the data points are relatively close to the mean. On the other hand, Dataset 2 has a range of 6 and a standard deviation of approximately 3, indicating that the data points are more spread out and further from the mean.\n"
   ]
  },
  {
   "cell_type": "markdown",
   "id": "7a34c0dd-8b1d-493f-897a-44ef8487215a",
   "metadata": {},
   "source": [
    " Q6. What is a Venn diagram?\n",
    "\n",
    "A6-A Venn diagram is a visual representation of the relationship between sets. It consists of overlapping circles or other shapes, with each circle representing a set and the overlapping region representing the intersection of those sets. The non-overlapping parts of each circle represent the items that are unique to that set.\n",
    "\n",
    "Venn diagrams are commonly used in mathematics, logic, and statistics to visually represent the relationships between different sets of objects or concepts. They are useful for analyzing data and identifying similarities and differences between different groups"
   ]
  },
  {
   "cell_type": "markdown",
   "id": "34188e12-5ff2-48ef-a9ed-c7fb09a8877e",
   "metadata": {},
   "source": [
    " Q7. For the two given sets A = (2,3,4,5,6,7) & B = (0,2,6,8,10). Find:\n",
    "1. $A \\cup B$\n",
    "2. $A \\cap B$"
   ]
  },
  {
   "cell_type": "code",
   "execution_count": 7,
   "id": "3a765dc0",
   "metadata": {},
   "outputs": [
    {
     "name": "stdout",
     "output_type": "stream",
     "text": [
      "1: {0, 2, 3, 4, 5, 6, 7, 8, 10}\n",
      "2:  {2, 6}\n"
     ]
    }
   ],
   "source": [
    "#A7-\n",
    "A = {2,3,4,5,6,7}\n",
    "B = {0,2,6,8,10}\n",
    "print(\"1:\", A.union(B))\n",
    "print(\"2: \", A.intersection(B))"
   ]
  },
  {
   "cell_type": "markdown",
   "id": "15174825-5ac4-4463-ab9f-61e5d310af7d",
   "metadata": {},
   "source": [
    "Q8. What do you understand about skewness in data?\n",
    "\n",
    "A8-Skewness is a measure of the asymmetry of a distribution of data. A distribution is said to be symmetric if it is evenly distributed around its mean, with roughly the same number of data points on either side of the mean. In contrast, if one tail of the distribution is longer than the other, the distribution is said to be skewed.\n",
    "There are two types of skewness:\n",
    "\n",
    "1. Positive Skewness: In a positively skewed distribution, the tail of the distribution is longer on the right-hand side. This means that the mean is greater than the median, and the majority of the data points are clustered on the left-hand side of the distribution.\n",
    "\n",
    "2. Negative Skewness: In a negatively skewed distribution, the tail of the distribution is longer on the left-hand side. This means that the mean is less than the median, and the majority of the data points are clustered on the right-hand side of the distribution.\n"
   ]
  },
  {
   "cell_type": "markdown",
   "id": "fc42b2d8-99d4-4dde-bfc1-977cd1e002aa",
   "metadata": {},
   "source": [
    "Q9. If a data is right skewed then what will be the position of median with respect to mean?\n",
    "\n",
    "A9-If a dataset is right-skewed, then the tail of the distribution is longer on the right-hand side. This means that the majority of the data points are clustered on the left-hand side of the distribution, and there are some extremely high values on the right-hand side that pull the mean towards the right. In such cases, the median will be less than the mean."
   ]
  },
  {
   "cell_type": "markdown",
   "id": "fe5abec6-a492-4d9f-8d59-8d2989302b4c",
   "metadata": {},
   "source": [
    "Q10 Explain the difference between covariance and correlation. How are these measures used in statistical analysis?\n",
    "\n",
    "A10-Covariance is a measure of how two variables vary together. It is a measure of the extent to which two variables are linearly related. A positive covariance indicates that the two variables tend to increase or decrease together, while a negative covariance indicates that they tend to move in opposite directions. However, the covariance is not standardized and can take on any value, which makes it difficult to compare covariances between different datasets or variables.\n",
    "\n",
    "Correlation, on the other hand, is a standardized measure of the relationship between two variables. It ranges between -1 and 1, with a correlation of 1 indicating a perfect positive relationship, a correlation of -1 indicating a perfect negative relationship, and a correlation of 0 indicating no relationship at all. Correlation can be used to compare the strength and direction of the relationship between different datasets or variables.\n",
    "\n",
    "To calculate covariance and correlation, the formulas are:\n",
    "\n",
    "Covariance: cov(A,B) = sum((A - mean(A)) * (B - mean(B))) / (n-1)\n",
    "\n",
    "Correlation: corr(A,B) = cov(A,B) / (std(A) * std(B))\n",
    "\n",
    "Where A and B are two variables, mean(A) and mean(B) are their respective means, std(A) and std(B) are their respective standard deviations, and n is the number of data points.\n"
   ]
  },
  {
   "cell_type": "markdown",
   "id": "427e28e8-131c-4e20-a8fa-b40ac6d55463",
   "metadata": {},
   "source": [
    "Q11. What is the formula for calculating the sample mean? Provide an example calculation for a dataset.\n",
    "\n",
    "A11-The formula for calculating the sample mean (also known as the arithmetic mean) is:\n",
    "\n",
    "sample mean = (sum of all data points) / (number of data points)\n",
    "\n",
    "For example, suppose we have the following dataset:\n",
    "\n",
    "3, 5, 7, 9, 11\n",
    "\n",
    "To find the sample mean, we first add up all the data points:\n",
    "\n",
    "3 + 5 + 7 + 9 + 11 = 35\n",
    "\n",
    "Then we divide the sum by the number of data points (which is 5 in this case):\n",
    "\n",
    "sample mean = 35 / 5 = 7\n",
    "\n",
    "Therefore, the sample mean for this dataset is 7.\n"
   ]
  },
  {
   "cell_type": "markdown",
   "id": "6415950f-02e0-4722-9498-1e744b58d998",
   "metadata": {},
   "source": [
    "Q12. For a normal distribution data what is the relationship between its measure of central tendency?\n",
    "\n",
    "A12-For a normal distribution, the mean, median, and mode are all equal to each other. This is because a normal distribution is symmetric around its mean, and the point of highest frequency (the mode) is also located at the mean.\n",
    "\n",
    "In other words, for a normal distribution, the mean, median, and mode are all located at the center of the distribution, which is also the point of highest density. This central tendency is one of the defining characteristics of a normal distribution, and it makes it a useful distribution for many statistical analyses."
   ]
  },
  {
   "cell_type": "markdown",
   "id": "65516cb1-fa95-4a56-a5b3-f1930374cd14",
   "metadata": {},
   "source": [
    "Q13. How is covariance different from correlation?\n",
    "Covariance and correlation are both measures of the relationship between two variables, but they differ in terms of their properties and interpretation.\n",
    "\n",
    "A13-The main difference between covariance and correlation is that covariance is an unstandardized measure that reflects the direction and magnitude of the relationship between two variables, while correlation is a standardized measure that reflects only the strength and direction of the linear relationship between two variables.\n",
    "Covariance is not standardized, while correlation is standardized and ranges between -1 and 1.\n",
    "Covariance can be influenced by the scale of the variables, while correlation is unaffected by changes in the scale of the variables."
   ]
  },
  {
   "cell_type": "markdown",
   "id": "2275bffc-d906-4b70-b659-ccd128c6465b",
   "metadata": {},
   "source": [
    "Q14. How do outliers affect measures of central tendency and dispersion? Provide an example.\n",
    "\n",
    "A14-Outliers are extreme values in a dataset that are significantly different from the other values in the distribution. They can have a significant impact on measures of central tendency and dispersion.\n",
    "\n",
    "In terms of measures of central tendency, outliers can significantly affect the mean. Since the mean is calculated by summing all the values and dividing by the number of values, outliers can disproportionately influence the sum and thus the mean. For example, consider the following dataset: 1, 2, 3, 4, 5, 10. The mean of this dataset is (1+2+3+4+5+10)/6 = 25/6 = 4.17. However, if we remove the outlier (10), the mean becomes (1+2+3+4+5)/5 = 15/5 = 3, which is significantly different.\n",
    "\n",
    "In terms of measures of dispersion, outliers can significantly affect the range, variance, and standard deviation. The range is the difference between the highest and lowest values in the dataset, so a single outlier can greatly increase the range. Similarly, the variance and standard deviation are both measures of how spread out the data is around the mean, so outliers can greatly increase these measures. For example, consider the following dataset: 1, 2, 3, 4, 5, 100. The range of this dataset is 99, the variance is 866, and the standard deviation is 29.43. However, if we remove the outlier (100), the range becomes 4, the variance becomes 2.5, and the standard deviation becomes 1.58.\n",
    "\n",
    "\n",
    "\n",
    "\n"
   ]
  }
 ],
 "metadata": {
  "kernelspec": {
   "display_name": "Python 3 (ipykernel)",
   "language": "python",
   "name": "python3"
  },
  "language_info": {
   "codemirror_mode": {
    "name": "ipython",
    "version": 3
   },
   "file_extension": ".py",
   "mimetype": "text/x-python",
   "name": "python",
   "nbconvert_exporter": "python",
   "pygments_lexer": "ipython3",
   "version": "3.11.4"
  }
 },
 "nbformat": 4,
 "nbformat_minor": 5
}
