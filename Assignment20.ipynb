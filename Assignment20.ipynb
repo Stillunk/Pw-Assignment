{
 "cells": [
  {
   "cell_type": "code",
   "execution_count": 12,
   "metadata": {},
   "outputs": [
    {
     "name": "stdout",
     "output_type": "stream",
     "text": [
      "Using head fucntion:\n",
      "      Name  Age  Gender\n",
      "0   Alice   25  Female\n",
      "1     Bob   30    Male\n",
      "2  Claire   27  Female\n",
      "3   robin   34    Male\n",
      "4     sam   12  Female\n",
      "Using tail fucntion:\n",
      "      Name  Age  Gender\n",
      "2  Claire   27  Female\n",
      "3   robin   34    Male\n",
      "4     sam   12  Female\n",
      "5    aice   43  Female\n",
      "6   raghu   33    Male\n",
      "Using describe fucntion:\n",
      "              Age\n",
      "count   7.000000\n",
      "mean   29.142857\n",
      "std     9.546877\n",
      "min    12.000000\n",
      "25%    26.000000\n",
      "50%    30.000000\n",
      "75%    33.500000\n",
      "max    43.000000\n",
      "Using dtypes fucntion:\n",
      " Name      object\n",
      "Age        int64\n",
      "Gender    object\n",
      "dtype: object\n",
      "Index(['Name', 'Age', 'Gender'], dtype='object')\n"
     ]
    }
   ],
   "source": [
    "\n",
    "#Q1. List any five functions of the pandas library with execution.\n",
    "\"\"\"Five pandas function are tail(),head(),describe(),dtypes,columns\n",
    "\"\"\"\n",
    "import pandas as pd\n",
    "data={\"Name\":[\"Alice\",\"Bob\",\"Claire\",\"robin\",\"sam\",\"aice\",\"raghu\"],\n",
    "      \"Age\":[25,30,27,34,12,43,33],\n",
    "      \"Gender\":[\"Female\",\"Male\",\"Female\",\"Male\",\"Female\",\"Female\",\"Male\"]}\n",
    "df=pd.DataFrame(data)#data frame created\n",
    "print(\"Using head fucntion:\\n\",df.head())\n",
    "print(\"Using tail fucntion:\\n\",df.tail())\n",
    "print(\"Using describe fucntion:\\n\",df.describe())\n",
    "print(\"Using dtypes fucntion:\\n\",df.dtypes)\n",
    "print( df.columns)\n",
    "\n",
    "\n"
   ]
  },
  {
   "cell_type": "code",
   "execution_count": 38,
   "metadata": {},
   "outputs": [
    {
     "data": {
      "text/html": [
       "<div>\n",
       "<style scoped>\n",
       "    .dataframe tbody tr th:only-of-type {\n",
       "        vertical-align: middle;\n",
       "    }\n",
       "\n",
       "    .dataframe tbody tr th {\n",
       "        vertical-align: top;\n",
       "    }\n",
       "\n",
       "    .dataframe thead th {\n",
       "        text-align: right;\n",
       "    }\n",
       "</style>\n",
       "<table border=\"1\" class=\"dataframe\">\n",
       "  <thead>\n",
       "    <tr style=\"text-align: right;\">\n",
       "      <th></th>\n",
       "      <th>A</th>\n",
       "      <th>B</th>\n",
       "      <th>C</th>\n",
       "    </tr>\n",
       "  </thead>\n",
       "  <tbody>\n",
       "    <tr>\n",
       "      <th>1</th>\n",
       "      <td>1</td>\n",
       "      <td>2</td>\n",
       "      <td>3</td>\n",
       "    </tr>\n",
       "    <tr>\n",
       "      <th>3</th>\n",
       "      <td>2</td>\n",
       "      <td>3</td>\n",
       "      <td>4</td>\n",
       "    </tr>\n",
       "    <tr>\n",
       "      <th>5</th>\n",
       "      <td>3</td>\n",
       "      <td>4</td>\n",
       "      <td>5</td>\n",
       "    </tr>\n",
       "    <tr>\n",
       "      <th>7</th>\n",
       "      <td>4</td>\n",
       "      <td>5</td>\n",
       "      <td>6</td>\n",
       "    </tr>\n",
       "  </tbody>\n",
       "</table>\n",
       "</div>"
      ],
      "text/plain": [
       "   A  B  C\n",
       "1  1  2  3\n",
       "3  2  3  4\n",
       "5  3  4  5\n",
       "7  4  5  6"
      ]
     },
     "execution_count": 38,
     "metadata": {},
     "output_type": "execute_result"
    }
   ],
   "source": [
    "#Q2. Given a Pandas DataFrame df with columns 'A', 'B', and 'C', write a Python function to re-index the\n",
    "# DataFrame with a new index that starts from 1 and increments by 2 for each row.\n",
    "def r_index(df):\n",
    "    new_index=[i for i in range(1,len(df)*2,2)]\n",
    "    df.index=new_index\n",
    "    return df\n",
    "\n",
    "df=pd.DataFrame({\"A\":[1,2,3,4],\"B\":[2,3,4,5],\"C\":[3,4,5,6]})\n",
    "r_index(df)\n",
    "\n",
    "\n"
   ]
  },
  {
   "cell_type": "code",
   "execution_count": 64,
   "metadata": {},
   "outputs": [
    {
     "data": {
      "text/plain": [
       "60"
      ]
     },
     "execution_count": 64,
     "metadata": {},
     "output_type": "execute_result"
    }
   ],
   "source": [
    "#Q3. You have a Pandas DataFrame df with a column named 'Values'. Write a Python function that\n",
    "# iterates over the DataFrame and calculates the sum of the first three values in the 'Values' column. The\n",
    "# function should print the sum to the console.\n",
    "def summ(df):\n",
    "    sum=0\n",
    "    for i in df[\"Values\"][0:3]:\n",
    "        sum+=i\n",
    "    return sum\n",
    "df=pd.DataFrame({\"Values\":[10,20,30,40,50]})\n",
    "summ(df)\n",
    "\n",
    "    \n",
    "# summ(df)"
   ]
  },
  {
   "cell_type": "code",
   "execution_count": 65,
   "metadata": {},
   "outputs": [],
   "source": [
    "#Q4. Given a Pandas DataFrame df with a column 'Text', write a Python function to create a new column\n",
    "# 'Word_Count' that contains the number of words in each row of the 'Text' column.\n",
    "def word_count(df):\n",
    "    df[\"word count\"]=df[\"Text\"].apply(lambda x:len(x.split()))\n",
    "    return df"
   ]
  },
  {
   "cell_type": "code",
   "execution_count": 71,
   "metadata": {},
   "outputs": [
    {
     "name": "stdout",
     "output_type": "stream",
     "text": [
      "   A  B  C\n",
      "0  1  2  3\n",
      "1  2  3  4\n",
      "2  3  4  5\n",
      "3  4  5  6\n",
      "12\n",
      "(4, 3)\n"
     ]
    }
   ],
   "source": [
    "#Q5. How are DataFrame.size() and DataFrame.shape() different?\n",
    "\"\"\"DataFrame.size()- returns the no of elements in the dataframe\n",
    "and DataFrame.shape- return the no of rows and colums in the DataFrame()\"\"\"\n",
    "df=pd.DataFrame({\"A\":[1,2,3,4],\"B\":[2,3,4,5],\"C\":[3,4,5,6]})\n",
    "print(df)\n",
    "print(df.size)\n",
    "print(df.shape)\n"
   ]
  },
  {
   "cell_type": "code",
   "execution_count": 72,
   "metadata": {},
   "outputs": [
    {
     "data": {
      "text/plain": [
       "'We use pandas.read_excel(\"filename) to read excel file'"
      ]
     },
     "execution_count": 72,
     "metadata": {},
     "output_type": "execute_result"
    }
   ],
   "source": [
    "#Q6. Which function of pandas do we use to read an excel file?\n",
    "\"\"\"We use pandas.read_excel(\"filename) to read excel file\"\"\"\n"
   ]
  },
  {
   "cell_type": "code",
   "execution_count": 76,
   "metadata": {},
   "outputs": [
    {
     "data": {
      "text/html": [
       "<div>\n",
       "<style scoped>\n",
       "    .dataframe tbody tr th:only-of-type {\n",
       "        vertical-align: middle;\n",
       "    }\n",
       "\n",
       "    .dataframe tbody tr th {\n",
       "        vertical-align: top;\n",
       "    }\n",
       "\n",
       "    .dataframe thead th {\n",
       "        text-align: right;\n",
       "    }\n",
       "</style>\n",
       "<table border=\"1\" class=\"dataframe\">\n",
       "  <thead>\n",
       "    <tr style=\"text-align: right;\">\n",
       "      <th></th>\n",
       "      <th>Email</th>\n",
       "      <th>Username</th>\n",
       "    </tr>\n",
       "  </thead>\n",
       "  <tbody>\n",
       "    <tr>\n",
       "      <th>0</th>\n",
       "      <td>anyone@mail.com</td>\n",
       "      <td>anyone</td>\n",
       "    </tr>\n",
       "    <tr>\n",
       "      <th>1</th>\n",
       "      <td>abc@yahooo.com</td>\n",
       "      <td>abc</td>\n",
       "    </tr>\n",
       "  </tbody>\n",
       "</table>\n",
       "</div>"
      ],
      "text/plain": [
       "             Email Username\n",
       "0  anyone@mail.com   anyone\n",
       "1   abc@yahooo.com      abc"
      ]
     },
     "execution_count": 76,
     "metadata": {},
     "output_type": "execute_result"
    }
   ],
   "source": [
    "#Q7. You have a Pandas DataFrame df that contains a column named 'Email' that contains email\n",
    "# addresses in the format 'username@domain.com'. Write a Python function that creates a new column\n",
    "# 'Username' in df that contains only the username part of each email address.\n",
    "def username(df):\n",
    "    df[\"Username\"]=df[\"Email\"].apply(lambda x:x.split(\"@\")[0])\n",
    "    return df\n",
    "\n",
    "df=pd.DataFrame({\"Email\":[\"anyone@mail.com\",\"abc@yahooo.com\"]})\n",
    "username(df)"
   ]
  },
  {
   "cell_type": "code",
   "execution_count": 86,
   "metadata": {},
   "outputs": [
    {
     "data": {
      "text/html": [
       "<div>\n",
       "<style scoped>\n",
       "    .dataframe tbody tr th:only-of-type {\n",
       "        vertical-align: middle;\n",
       "    }\n",
       "\n",
       "    .dataframe tbody tr th {\n",
       "        vertical-align: top;\n",
       "    }\n",
       "\n",
       "    .dataframe thead th {\n",
       "        text-align: right;\n",
       "    }\n",
       "</style>\n",
       "<table border=\"1\" class=\"dataframe\">\n",
       "  <thead>\n",
       "    <tr style=\"text-align: right;\">\n",
       "      <th></th>\n",
       "      <th>A</th>\n",
       "      <th>B</th>\n",
       "      <th>C</th>\n",
       "    </tr>\n",
       "  </thead>\n",
       "  <tbody>\n",
       "    <tr>\n",
       "      <th>1</th>\n",
       "      <td>8</td>\n",
       "      <td>2</td>\n",
       "      <td>7</td>\n",
       "    </tr>\n",
       "    <tr>\n",
       "      <th>2</th>\n",
       "      <td>6</td>\n",
       "      <td>9</td>\n",
       "      <td>4</td>\n",
       "    </tr>\n",
       "    <tr>\n",
       "      <th>4</th>\n",
       "      <td>9</td>\n",
       "      <td>1</td>\n",
       "      <td>2</td>\n",
       "    </tr>\n",
       "  </tbody>\n",
       "</table>\n",
       "</div>"
      ],
      "text/plain": [
       "   A  B  C\n",
       "1  8  2  7\n",
       "2  6  9  4\n",
       "4  9  1  2"
      ]
     },
     "execution_count": 86,
     "metadata": {},
     "output_type": "execute_result"
    }
   ],
   "source": [
    "#Q8. You have a Pandas DataFrame df with columns 'A', 'B', and 'C'. Write a Python function that selects\n",
    "# all rows where the value in column 'A' is greater than 5 and the value in column 'B' is less than 10. The\n",
    "# function should return a new DataFrame that contains only the selected rows.\n",
    "def test(df):\n",
    "    df1=df[(df[\"A\"]>5) & (df[\"B\"]<10)]\n",
    "    return df1\n",
    "df=pd.DataFrame({\"A\":[3,8,6,2,9],\n",
    "                 \"B\":[5,2,9,3,1],\n",
    "                 \"C\":[1,7,4,5,2]})\n",
    "test(df)\n",
    "\n"
   ]
  },
  {
   "cell_type": "code",
   "execution_count": 91,
   "metadata": {},
   "outputs": [
    {
     "data": {
      "text/plain": [
       "(3.0, 3.0, 1.5811388300841898)"
      ]
     },
     "execution_count": 91,
     "metadata": {},
     "output_type": "execute_result"
    }
   ],
   "source": [
    "#Q9. Given a Pandas DataFrame df with a column 'Values', write a Python function to calculate the mean,\n",
    "# median, and standard deviation of the values in the 'Values' column.\n",
    "def test2(df):\n",
    "    mean=df[\"Values\"].mean()\n",
    "    median=df[\"Values\"].median()\n",
    "    std=df[\"Values\"].std()   \n",
    "    return mean,median,std\n",
    "df=pd.DataFrame({\"Values\":[1,2,3,4,5]})\n",
    "test2(df)"
   ]
  },
  {
   "cell_type": "code",
   "execution_count": 93,
   "metadata": {},
   "outputs": [
    {
     "data": {
      "text/html": [
       "<div>\n",
       "<style scoped>\n",
       "    .dataframe tbody tr th:only-of-type {\n",
       "        vertical-align: middle;\n",
       "    }\n",
       "\n",
       "    .dataframe tbody tr th {\n",
       "        vertical-align: top;\n",
       "    }\n",
       "\n",
       "    .dataframe thead th {\n",
       "        text-align: right;\n",
       "    }\n",
       "</style>\n",
       "<table border=\"1\" class=\"dataframe\">\n",
       "  <thead>\n",
       "    <tr style=\"text-align: right;\">\n",
       "      <th></th>\n",
       "      <th>Date</th>\n",
       "      <th>Sales</th>\n",
       "      <th>MovingAverage</th>\n",
       "    </tr>\n",
       "  </thead>\n",
       "  <tbody>\n",
       "    <tr>\n",
       "      <th>0</th>\n",
       "      <td>2023-08-01</td>\n",
       "      <td>10</td>\n",
       "      <td>NaN</td>\n",
       "    </tr>\n",
       "    <tr>\n",
       "      <th>1</th>\n",
       "      <td>2023-08-02</td>\n",
       "      <td>12</td>\n",
       "      <td>NaN</td>\n",
       "    </tr>\n",
       "    <tr>\n",
       "      <th>2</th>\n",
       "      <td>2023-08-03</td>\n",
       "      <td>14</td>\n",
       "      <td>NaN</td>\n",
       "    </tr>\n",
       "    <tr>\n",
       "      <th>3</th>\n",
       "      <td>2023-08-04</td>\n",
       "      <td>16</td>\n",
       "      <td>NaN</td>\n",
       "    </tr>\n",
       "    <tr>\n",
       "      <th>4</th>\n",
       "      <td>2023-08-05</td>\n",
       "      <td>18</td>\n",
       "      <td>NaN</td>\n",
       "    </tr>\n",
       "    <tr>\n",
       "      <th>5</th>\n",
       "      <td>2023-08-06</td>\n",
       "      <td>20</td>\n",
       "      <td>NaN</td>\n",
       "    </tr>\n",
       "    <tr>\n",
       "      <th>6</th>\n",
       "      <td>2023-08-07</td>\n",
       "      <td>22</td>\n",
       "      <td>16.0</td>\n",
       "    </tr>\n",
       "    <tr>\n",
       "      <th>7</th>\n",
       "      <td>2023-08-08</td>\n",
       "      <td>24</td>\n",
       "      <td>18.0</td>\n",
       "    </tr>\n",
       "  </tbody>\n",
       "</table>\n",
       "</div>"
      ],
      "text/plain": [
       "         Date  Sales  MovingAverage\n",
       "0  2023-08-01     10            NaN\n",
       "1  2023-08-02     12            NaN\n",
       "2  2023-08-03     14            NaN\n",
       "3  2023-08-04     16            NaN\n",
       "4  2023-08-05     18            NaN\n",
       "5  2023-08-06     20            NaN\n",
       "6  2023-08-07     22           16.0\n",
       "7  2023-08-08     24           18.0"
      ]
     },
     "execution_count": 93,
     "metadata": {},
     "output_type": "execute_result"
    }
   ],
   "source": [
    "#Q10. Given a Pandas DataFrame df with a column 'Sales' and a column 'Date', write a Python function to\n",
    "# create a new column 'MovingAverage' that contains the moving average of the sales for the past 7 days\n",
    "# for each row in the DataFrame. The moving average should be calculated using a window of size 7 and\n",
    "# should include the current day.\n",
    "def test3(df):\n",
    "    df[\"MovingAverage\"]=df[\"Sales\"].rolling(window=7).mean()\n",
    "    return df\n",
    "data = {\n",
    "    'Date': ['2023-08-01', '2023-08-02', '2023-08-03', '2023-08-04', '2023-08-05', '2023-08-06', '2023-08-07', '2023-08-08'],\n",
    "    'Sales': [10, 12, 14, 16, 18, 20, 22, 24]\n",
    "}\n",
    "\n",
    "df = pd.DataFrame(data)\n",
    "test3(df)\n",
    "\n"
   ]
  },
  {
   "cell_type": "code",
   "execution_count": 97,
   "metadata": {},
   "outputs": [
    {
     "data": {
      "text/html": [
       "<div>\n",
       "<style scoped>\n",
       "    .dataframe tbody tr th:only-of-type {\n",
       "        vertical-align: middle;\n",
       "    }\n",
       "\n",
       "    .dataframe tbody tr th {\n",
       "        vertical-align: top;\n",
       "    }\n",
       "\n",
       "    .dataframe thead th {\n",
       "        text-align: right;\n",
       "    }\n",
       "</style>\n",
       "<table border=\"1\" class=\"dataframe\">\n",
       "  <thead>\n",
       "    <tr style=\"text-align: right;\">\n",
       "      <th></th>\n",
       "      <th>Date</th>\n",
       "      <th>Weekday</th>\n",
       "    </tr>\n",
       "  </thead>\n",
       "  <tbody>\n",
       "    <tr>\n",
       "      <th>0</th>\n",
       "      <td>2023-08-01</td>\n",
       "      <td>Tuesday</td>\n",
       "    </tr>\n",
       "    <tr>\n",
       "      <th>1</th>\n",
       "      <td>2023-08-02</td>\n",
       "      <td>Wednesday</td>\n",
       "    </tr>\n",
       "    <tr>\n",
       "      <th>2</th>\n",
       "      <td>2023-08-03</td>\n",
       "      <td>Thursday</td>\n",
       "    </tr>\n",
       "    <tr>\n",
       "      <th>3</th>\n",
       "      <td>2023-08-04</td>\n",
       "      <td>Friday</td>\n",
       "    </tr>\n",
       "    <tr>\n",
       "      <th>4</th>\n",
       "      <td>2023-08-05</td>\n",
       "      <td>Saturday</td>\n",
       "    </tr>\n",
       "    <tr>\n",
       "      <th>5</th>\n",
       "      <td>2023-08-06</td>\n",
       "      <td>Sunday</td>\n",
       "    </tr>\n",
       "    <tr>\n",
       "      <th>6</th>\n",
       "      <td>2023-08-07</td>\n",
       "      <td>Monday</td>\n",
       "    </tr>\n",
       "    <tr>\n",
       "      <th>7</th>\n",
       "      <td>2023-08-08</td>\n",
       "      <td>Tuesday</td>\n",
       "    </tr>\n",
       "    <tr>\n",
       "      <th>8</th>\n",
       "      <td>2023-08-09</td>\n",
       "      <td>Wednesday</td>\n",
       "    </tr>\n",
       "    <tr>\n",
       "      <th>9</th>\n",
       "      <td>2023-08-10</td>\n",
       "      <td>Thursday</td>\n",
       "    </tr>\n",
       "  </tbody>\n",
       "</table>\n",
       "</div>"
      ],
      "text/plain": [
       "        Date    Weekday\n",
       "0 2023-08-01    Tuesday\n",
       "1 2023-08-02  Wednesday\n",
       "2 2023-08-03   Thursday\n",
       "3 2023-08-04     Friday\n",
       "4 2023-08-05   Saturday\n",
       "5 2023-08-06     Sunday\n",
       "6 2023-08-07     Monday\n",
       "7 2023-08-08    Tuesday\n",
       "8 2023-08-09  Wednesday\n",
       "9 2023-08-10   Thursday"
      ]
     },
     "execution_count": 97,
     "metadata": {},
     "output_type": "execute_result"
    }
   ],
   "source": [
    "#Q11. You have a Pandas DataFrame df with a column 'Date'. Write a Python function that creates a new\n",
    "# column 'Weekday' in the DataFrame. The 'Weekday' column should contain the weekday name (e.g.\n",
    "# Monday, Tuesday) corresponding to each date in the 'Date' column.\n",
    "def test4(df):\n",
    "    df[\"Date\"]=pd.to_datetime(df[\"Date\"])\n",
    "    df[\"Weekday\"]=df[\"Date\"].dt.day_name()\n",
    "    return df\n",
    "date=pd.date_range(start='2023-08-01',end='2023-08-10')\n",
    "df=pd.DataFrame({\"Date\":date})\n",
    "test4(df)\n",
    "\n",
    "\n"
   ]
  },
  {
   "cell_type": "code",
   "execution_count": 99,
   "metadata": {},
   "outputs": [
    {
     "data": {
      "text/html": [
       "<div>\n",
       "<style scoped>\n",
       "    .dataframe tbody tr th:only-of-type {\n",
       "        vertical-align: middle;\n",
       "    }\n",
       "\n",
       "    .dataframe tbody tr th {\n",
       "        vertical-align: top;\n",
       "    }\n",
       "\n",
       "    .dataframe thead th {\n",
       "        text-align: right;\n",
       "    }\n",
       "</style>\n",
       "<table border=\"1\" class=\"dataframe\">\n",
       "  <thead>\n",
       "    <tr style=\"text-align: right;\">\n",
       "      <th></th>\n",
       "      <th>Date</th>\n",
       "    </tr>\n",
       "  </thead>\n",
       "  <tbody>\n",
       "    <tr>\n",
       "      <th>0</th>\n",
       "      <td>2023-01-15</td>\n",
       "    </tr>\n",
       "    <tr>\n",
       "      <th>1</th>\n",
       "      <td>2023-01-25</td>\n",
       "    </tr>\n",
       "    <tr>\n",
       "      <th>3</th>\n",
       "      <td>2023-01-10</td>\n",
       "    </tr>\n",
       "  </tbody>\n",
       "</table>\n",
       "</div>"
      ],
      "text/plain": [
       "        Date\n",
       "0 2023-01-15\n",
       "1 2023-01-25\n",
       "3 2023-01-10"
      ]
     },
     "execution_count": 99,
     "metadata": {},
     "output_type": "execute_result"
    }
   ],
   "source": [
    "#Q12. Given a Pandas DataFrame df with a column 'Date' that contains timestamps, write a Python\n",
    "# function to select all rows where the date is between '2023-01-01' and '2023-01-31'.\n",
    "def test5(df):\n",
    "    df[\"Date\"]=pd.to_datetime(df[\"Date\"])\n",
    "    start=pd.Timestamp('2023-01-01')\n",
    "    end=pd.Timestamp('2023-01-31')\n",
    "    return df[(df[\"Date\"] >=start) & (df[\"Date\"]<=end)]\n",
    "df=pd.DataFrame({\n",
    "    'Date': ['2023-01-15', '2023-01-25', '2023-02-05', '2023-01-10', '2023-02-15']})\n",
    "test5(df)"
   ]
  },
  {
   "cell_type": "code",
   "execution_count": 100,
   "metadata": {},
   "outputs": [],
   "source": [
    "#Q13. To use the basic functions of pandas, what is the first and foremost necessary library that needs to\n",
    "# be imported?\n",
    "\"\"\"for that we need to import pandas library\"\"\"\n",
    "import pandas as pd\n"
   ]
  },
  {
   "cell_type": "code",
   "execution_count": null,
   "metadata": {},
   "outputs": [],
   "source": []
  },
  {
   "cell_type": "code",
   "execution_count": null,
   "metadata": {},
   "outputs": [],
   "source": []
  }
 ],
 "metadata": {
  "kernelspec": {
   "display_name": "Python 3",
   "language": "python",
   "name": "python3"
  },
  "language_info": {
   "codemirror_mode": {
    "name": "ipython",
    "version": 3
   },
   "file_extension": ".py",
   "mimetype": "text/x-python",
   "name": "python",
   "nbconvert_exporter": "python",
   "pygments_lexer": "ipython3",
   "version": "3.11.4"
  },
  "orig_nbformat": 4
 },
 "nbformat": 4,
 "nbformat_minor": 2
}
