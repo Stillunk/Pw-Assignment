{
 "cells": [
  {
   "cell_type": "code",
   "execution_count": 1,
   "metadata": {},
   "outputs": [],
   "source": [
    "import numpy as np\n",
    "list_ = [ \"1\",\"2\",\"3\",\"4\",\"5\"]\n",
    "array_list = np.array(object = list_)"
   ]
  },
  {
   "cell_type": "code",
   "execution_count": 4,
   "metadata": {},
   "outputs": [
    {
     "name": "stdout",
     "output_type": "stream",
     "text": [
      "Type of list_ is: <class 'list'>\n",
      "Type of array_list is: <class 'numpy.ndarray'>\n"
     ]
    }
   ],
   "source": [
    "#Q1. Is there any difference in the data type of variables list_ and array_list? If there is then write a code\n",
    "# to print the data types of both the variables.\n",
    "\"\"\"The data type of list_ variable is list and the data type of array_list is ndarray.\"\"\"\n",
    "print(\"Type of list_ is:\",type(list_))\n",
    "print(\"Type of array_list is:\",type(array_list))"
   ]
  },
  {
   "cell_type": "code",
   "execution_count": 9,
   "metadata": {},
   "outputs": [
    {
     "name": "stdout",
     "output_type": "stream",
     "text": [
      "For list_\n",
      "1  type is: <class 'str'>\n",
      "2  type is: <class 'str'>\n",
      "3  type is: <class 'str'>\n",
      "4  type is: <class 'str'>\n",
      "5  type is: <class 'str'>\n",
      "For array_list\n",
      "1  type is: <class 'numpy.str_'>\n",
      "2  type is: <class 'numpy.str_'>\n",
      "3  type is: <class 'numpy.str_'>\n",
      "4  type is: <class 'numpy.str_'>\n",
      "5  type is: <class 'numpy.str_'>\n"
     ]
    }
   ],
   "source": [
    "#Q2. Write a code to print the data type of each and every element of both the variables list_ and\n",
    "# arra_list.\n",
    "print(\"For list_\")\n",
    "for i in list_:\n",
    "    print(i,\" type is:\",type(i))\n",
    "print(\"For array_list\")\n",
    "for i in array_list:\n",
    "    print(i,\" type is:\",type(i))"
   ]
  },
  {
   "cell_type": "code",
   "execution_count": 15,
   "metadata": {},
   "outputs": [
    {
     "name": "stdout",
     "output_type": "stream",
     "text": [
      "For list_\n",
      "1  type is: <class 'str'>\n",
      "2  type is: <class 'str'>\n",
      "3  type is: <class 'str'>\n",
      "4  type is: <class 'str'>\n",
      "5  type is: <class 'str'>\n",
      "For array_list\n",
      "1  type is: <class 'numpy.int32'>\n",
      "2  type is: <class 'numpy.int32'>\n",
      "3  type is: <class 'numpy.int32'>\n",
      "4  type is: <class 'numpy.int32'>\n",
      "5  type is: <class 'numpy.int32'>\n"
     ]
    }
   ],
   "source": [
    "#Q3. Considering the following changes in the variable, array_list:\n",
    "array_list = np.array(object = list_, dtype = int)\n",
    "# Will there be any difference in the data type of the elements present in both the variables, list_ and\n",
    "# arra_list? If so then print the data types of each and every element present in both the variables, list_\n",
    "# and arra_list.\n",
    "\"\"\"Yes the data type of elements of array_list is now int earlier it was str.\"\"\"\n",
    "print(\"For list_\")\n",
    "for i in list_:\n",
    "    print(i,\" type is:\",type(i))\n",
    "print(\"For array_list\")\n",
    "for i in array_list:\n",
    "    print(i,\" type is:\",type(i))\n",
    "\n",
    "\n"
   ]
  },
  {
   "cell_type": "code",
   "execution_count": 16,
   "metadata": {},
   "outputs": [],
   "source": [
    "import numpy as np\n",
    "num_list = [ [ 1 , 2 , 3 ] , [ 4 , 5 , 6 ] ]\n",
    "num_array = np.array(object = num_list)"
   ]
  },
  {
   "cell_type": "code",
   "execution_count": 18,
   "metadata": {},
   "outputs": [
    {
     "name": "stdout",
     "output_type": "stream",
     "text": [
      "Shape of num_array is : (2, 3)\n",
      "Size of num_array is : 6\n"
     ]
    }
   ],
   "source": [
    "# Q4. Write a code to find the following characteristics of variable, num_array:\n",
    "# (i) shape\n",
    "# (ii) size\n",
    "print(\"Shape of num_array is :\",num_array.shape)\n",
    "print(\"Size of num_array is :\",num_array.size)\n"
   ]
  },
  {
   "cell_type": "code",
   "execution_count": 20,
   "metadata": {},
   "outputs": [
    {
     "data": {
      "text/plain": [
       "array([[0., 0., 0.],\n",
       "       [0., 0., 0.],\n",
       "       [0., 0., 0.]])"
      ]
     },
     "execution_count": 20,
     "metadata": {},
     "output_type": "execute_result"
    }
   ],
   "source": [
    "#Q5. Write a code to create numpy array of 3*3 matrix containing zeros only, using a numpy array\n",
    "# creation function.\n",
    "np.zeros((3,3))"
   ]
  },
  {
   "cell_type": "code",
   "execution_count": 21,
   "metadata": {},
   "outputs": [
    {
     "data": {
      "text/plain": [
       "array([[1., 0., 0., 0., 0.],\n",
       "       [0., 1., 0., 0., 0.],\n",
       "       [0., 0., 1., 0., 0.],\n",
       "       [0., 0., 0., 1., 0.],\n",
       "       [0., 0., 0., 0., 1.]])"
      ]
     },
     "execution_count": 21,
     "metadata": {},
     "output_type": "execute_result"
    }
   ],
   "source": [
    "#Q6. Create an identity matrix of shape (5,5) using numpy functions?\n",
    "np.eye(5)"
   ]
  }
 ],
 "metadata": {
  "kernelspec": {
   "display_name": "Python 3",
   "language": "python",
   "name": "python3"
  },
  "language_info": {
   "codemirror_mode": {
    "name": "ipython",
    "version": 3
   },
   "file_extension": ".py",
   "mimetype": "text/x-python",
   "name": "python",
   "nbconvert_exporter": "python",
   "pygments_lexer": "ipython3",
   "version": "3.11.4"
  },
  "orig_nbformat": 4
 },
 "nbformat": 4,
 "nbformat_minor": 2
}
