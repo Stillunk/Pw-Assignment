{
 "cells": [
  {
   "cell_type": "code",
   "execution_count": 22,
   "id": "f56e3038-6ef1-4b35-a67b-b8f7316ac92e",
   "metadata": {
    "tags": []
   },
   "outputs": [
    {
     "name": "stdout",
     "output_type": "stream",
     "text": [
      "hello world\n",
      "multiline comment\n"
     ]
    },
    {
     "data": {
      "text/plain": [
       "' interpreter will ignore these line\\nas theey are multiple line comment'"
      ]
     },
     "execution_count": 22,
     "metadata": {},
     "output_type": "execute_result"
    }
   ],
   "source": [
    "#Q1 How do you comment code in Python? What are the different types of comments?\n",
    "#There are two type of comment in python 1.single line comment and 2. Multiline comment\n",
    "#1. single line is using # symbol in front of line u wan to comment\n",
    "#eg-\n",
    "print(\"hello world\")#this is print statement\n",
    "#2. multiline comment is using ''' ur comment '''  or \"\"\" ur comment \"\"\" \n",
    "#eg-\n",
    "print(\"multiline comment\")\n",
    "\"\"\" interpreter will ignore these line\n",
    "as theey are multiple line comment\"\"\""
   ]
  },
  {
   "cell_type": "code",
   "execution_count": 23,
   "id": "df0e9e88-8c07-468d-adbb-1f97942ccdde",
   "metadata": {},
   "outputs": [],
   "source": [
    "# Q2What are variables in Python? How do you declare and assign values to variables?\n",
    "#A variable is a symbolic name that is refrence or pinter to a object.\n",
    "#In python a variable is declared by writing its name and value of anytype you want.Python support many types of variable\n",
    "#like int,str,float,tuple,list,set,dictionary etc.\n",
    "#eg-\n",
    "a=1#int type variable a assign value is 1\n",
    "ch =\"this is string\"# this is str variable ch"
   ]
  },
  {
   "cell_type": "code",
   "execution_count": 24,
   "id": "e016482a-9d8a-455d-9b15-699131e719b1",
   "metadata": {},
   "outputs": [
    {
     "name": "stdout",
     "output_type": "stream",
     "text": [
      "[1, 2, 4, 5, 'str']\n",
      "string in tuple ('T', 'h', 'i', 's', ' ', 'i', 's', ' ', 's', 't', 'r', 'i', 'n', 'g')\n"
     ]
    }
   ],
   "source": [
    "#Q3. How do you convert one data type to another in Python?\n",
    "  #A one data type is converted into another data type just p putting the data type variable you want to convert\n",
    "  #in bracket of type function in which you want to convert that.\n",
    "#eg-\n",
    "#tuple into list\n",
    "t=(1,2,4,5,\"str\")#this is tuple\n",
    "t=list(t)#here we convert tuple into list\n",
    "print(t)\n",
    "print(\"string in tuple\",tuple(\"This is string\"))\n"
   ]
  },
  {
   "cell_type": "code",
   "execution_count": 25,
   "id": "01a6ad97-fea6-4262-b1ad-044691cc69ac",
   "metadata": {},
   "outputs": [],
   "source": [
    "#Q4. How do you write and execute a Python script from the command line?\n",
    "    #To run Python scripts with the python command, you need to open a command-line and type in the word python , or python3\n",
    "    #if you have both versions, followed by the path to your script, then the script will get run if everyhting is fine\n",
    "    #Also after writing python next u can write their to check print(\"Hello\") if Hello as a result come then u can continue too use that."
   ]
  },
  {
   "cell_type": "code",
   "execution_count": 26,
   "id": "7a0ee414-727f-4842-a165-eebb9c12b8a3",
   "metadata": {},
   "outputs": [
    {
     "data": {
      "text/plain": [
       "[3]"
      ]
     },
     "execution_count": 26,
     "metadata": {},
     "output_type": "execute_result"
    }
   ],
   "source": [
    "#Q5Given a list my_list = [1, 2, 3, 4, 5], write the code to slice the list and obtain the sub-list [2, 3].\n",
    "my_list=[1,2,3,4,5]\n",
    "my_list[2:3]#this is the command to obtain sublist"
   ]
  },
  {
   "cell_type": "code",
   "execution_count": 27,
   "id": "92437441-6aaa-4128-b089-7ae80aaa1998",
   "metadata": {},
   "outputs": [
    {
     "name": "stdout",
     "output_type": "stream",
     "text": [
      "Complex no is: (1+10j)\n",
      "Real part: 1.0\n",
      "Imaginery part: 10.0\n"
     ]
    }
   ],
   "source": [
    "#Q6. What is a complex number in mathematics, and how is it represented in Python?\n",
    "#A complex number is a no. which contains two parts one is real part and second is imaginary part.eg 1+10i here 1 is real and 10 is imaginary part.\n",
    "#In python compelex no is represented in from a+jb here a and b are some value.here a is real part nd b with j is imaginery part.\n",
    "a=1+10j#complex no\n",
    "print(\"Complex no is:\",a)\n",
    "print(\"Real part:\",a.real)\n",
    "print(\"Imaginery part:\",a.imag)\n"
   ]
  },
  {
   "cell_type": "code",
   "execution_count": 28,
   "id": "da050809-47dd-4b4e-921c-b016f301a257",
   "metadata": {},
   "outputs": [],
   "source": [
    "#Q7. What is the correct way to declare a variable named age and assign the value 25 to it?\n",
    "age=25\n",
    "#this is the way to declare variable age by putting its name and assign value 25 to it using assignmnet operator(=)."
   ]
  },
  {
   "cell_type": "code",
   "execution_count": 29,
   "id": "7e73b8b6-f109-48d5-8303-4706d4844a44",
   "metadata": {},
   "outputs": [
    {
     "name": "stdout",
     "output_type": "stream",
     "text": [
      "<class 'float'>\n"
     ]
    }
   ],
   "source": [
    "#Q8. Declare a variable named price and assign the value 9.99 to it. What data type does this variable belong to?\n",
    "price=9.99#variable declared \n",
    "print(type(price))#to check datatype of price variable\n",
    "#variable is of float type."
   ]
  },
  {
   "cell_type": "code",
   "execution_count": 30,
   "id": "b2bceabc-9f8e-43cf-a405-d0575fd392d1",
   "metadata": {},
   "outputs": [
    {
     "name": "stdout",
     "output_type": "stream",
     "text": [
      "First last_name\n"
     ]
    }
   ],
   "source": [
    "#Q9. Create a variable named name and assign your full name to it as a string. How would you print the value of this variable?\n",
    "name=\"First last_name\"#varibale created \n",
    "#to print its value we use print function and write variable in its brackets\n",
    "print(name)"
   ]
  },
  {
   "cell_type": "code",
   "execution_count": 31,
   "id": "fe04cf08-f806-4c6e-92c3-1cfe1420f95d",
   "metadata": {},
   "outputs": [
    {
     "name": "stdout",
     "output_type": "stream",
     "text": [
      "World\n"
     ]
    }
   ],
   "source": [
    "#Q10. Given the string \"Hello, World!\", extract the substring \"World\".\n",
    "string=\"Hello, World\"\n",
    "#to extract World we use slicing\n",
    "substring=string[7:]#this results in substring\n",
    "print(substring)"
   ]
  },
  {
   "cell_type": "code",
   "execution_count": 32,
   "id": "c2a5d6f2-60cf-4c07-b428-1c2520ba3d02",
   "metadata": {},
   "outputs": [],
   "source": [
    "#Q11. Create a variable named \"is_student\" and assign it a boolean value indicating whether you are currently a student or not.\n",
    "is_student=True\n",
    "#we can us it to check conditons"
   ]
  },
  {
   "cell_type": "code",
   "execution_count": null,
   "id": "615b9f8b-2eda-4649-b894-71dedd8dd126",
   "metadata": {},
   "outputs": [],
   "source": []
  }
 ],
 "metadata": {
  "kernelspec": {
   "display_name": "Python 3 (ipykernel)",
   "language": "python",
   "name": "python3"
  },
  "language_info": {
   "codemirror_mode": {
    "name": "ipython",
    "version": 3
   },
   "file_extension": ".py",
   "mimetype": "text/x-python",
   "name": "python",
   "nbconvert_exporter": "python",
   "pygments_lexer": "ipython3",
   "version": "3.10.8"
  }
 },
 "nbformat": 4,
 "nbformat_minor": 5
}
