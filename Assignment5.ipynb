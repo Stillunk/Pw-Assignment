{
 "cells": [
  {
   "cell_type": "code",
   "execution_count": 1,
   "id": "a3127063-7388-4f5f-b48b-567edfbaca86",
   "metadata": {},
   "outputs": [],
   "source": [
    "# Q1, Create a vehicle class with an init method having instance variables as name_of_vehicle, max_speed and average_of_vehicle.\n",
    "\n",
    "class vehicle:\n",
    "    \n",
    "    def __init__(self,name_of_vehicle,max_speed,average_of_vehicle):\n",
    "        self.name_of_vehicle = name_of_vehicleicle\n",
    "        self.max_speed = max_speed\n",
    "        self.average_of_vehicle = average_of_vehicle\n",
    "obj_vehicle=vehicle(\"car\",120,22)#object"
   ]
  },
  {
   "cell_type": "code",
   "execution_count": 2,
   "id": "09e06220-c59a-4247-8039-7b965f5e1f00",
   "metadata": {},
   "outputs": [
    {
     "data": {
      "text/plain": [
       "('car', 5)"
      ]
     },
     "execution_count": 2,
     "metadata": {},
     "output_type": "execute_result"
    }
   ],
   "source": [
    "#Q2. Create a child class car from the vehicle class created in Que 1, which will inherit the vehicle class.\n",
    "#Create a method named seating_capacity which takes capacity as an argument and returns the name of the vehicle and its seating capacity.\n",
    "class car(vehicle):# child class inherit vehicle class\n",
    "    \n",
    "    def seating_capacity(self,capacity):\n",
    "        return self.name_of_vehicle,capacity\n",
    "obj=car(\"car\",120,22)#object of child class\n",
    "obj.seating_capacity(5)#calling seating capacity function"
   ]
  },
  {
   "cell_type": "code",
   "execution_count": 4,
   "id": "c40e6b2f-7e36-4c51-8b37-7c421aad2f2d",
   "metadata": {},
   "outputs": [
    {
     "name": "stdout",
     "output_type": "stream",
     "text": [
      "from class a\n",
      "from class b\n"
     ]
    }
   ],
   "source": [
    "#Q3. What is multiple inheritance? Write a python code to demonstrate multiple inheritance.\n",
    "\"\"\"Multiple inheritance is a type of inheritance in which a child class have two or more parent class or it is a type of inheritance in which a child\n",
    "class inherits property of two or more classes\"\"\"\n",
    "class a:\n",
    "    def test(self):\n",
    "        print(\"from class a\")\n",
    "class b:\n",
    "    def test1(self):\n",
    "        print(\"from class b\")\n",
    "class c(a,b):#multiple inheritance as c inherit a and b\n",
    "    pass\n",
    "obj_c=c()\n",
    "obj_c.test()#using class c objcet call class a fucntion\n",
    "obj_c.test1()#using class c objcet call class b fucntion"
   ]
  },
  {
   "cell_type": "code",
   "execution_count": 10,
   "id": "550eacea-d364-4022-9002-89d396994c6b",
   "metadata": {},
   "outputs": [
    {
     "name": "stdout",
     "output_type": "stream",
     "text": [
      "1\n"
     ]
    },
    {
     "data": {
      "text/plain": [
       "2"
      ]
     },
     "execution_count": 10,
     "metadata": {},
     "output_type": "execute_result"
    }
   ],
   "source": [
    "#Q4. What are getter and setter in python? Create a class and create a getter and a setter method in this class,\n",
    "\"\"\"Getters are the methods which help access the private attributes or get the value of the private attributes \n",
    "and setters are the methods which help change or set the value of private attributes.\"\"\"\n",
    "class test:\n",
    "\n",
    "    def __init__(self,a):\n",
    "        self.__a=a# private attribute\n",
    "    def set_fun(self):#setter fucntion\n",
    "        self.__a=2\n",
    "    #to show as member functuion can directly access it\n",
    "    def get_fun(self):#getter fucntion\n",
    "        return self.__a\n",
    "obj=test(1)\n",
    "#before setter\n",
    "print(obj.get_fun())\n",
    "#after setter function\n",
    "obj.set_fun()\n",
    "obj.get_fun()\n",
    "\n"
   ]
  },
  {
   "cell_type": "code",
   "execution_count": 1,
   "id": "c0965a63-daba-416b-968c-80be78f359f8",
   "metadata": {},
   "outputs": [
    {
     "name": "stdout",
     "output_type": "stream",
     "text": [
      "from b\n",
      "from a\n"
     ]
    }
   ],
   "source": [
    "#Q5.What is method overriding in python? Write a python code to demonstrate method overriding.\n",
    "\"\"\"Method overriding is an ability  that allows a subclass or child class to provide a specific implementation of a method\n",
    "that is already provided by one of its parent classes. When a method in a subclass has the same name, same parameters or signature \n",
    "and same return type(or sub-type) as a method in its super-class, then the method in the subclass is said to override the method in the super-class.\"\"\"\n",
    "class a:\n",
    "    def __init__(self,value):\n",
    "        self.value=value         #parent class\n",
    "    def show(self):\n",
    "        print(self.value)\n",
    "\n",
    "class b(a):                      #Child class\n",
    "    def __init__(self,value):\n",
    "        self.value=value\n",
    "    def show(self):\n",
    "        print(self.value)\n",
    "\n",
    "a=a(\"from a\")\n",
    "b=b(\"from b\")\n",
    "b.show()    #the show fucntion of b overrride show fucntion of a\n",
    "a.show()\n",
    "        "
   ]
  }
 ],
 "metadata": {
  "kernelspec": {
   "display_name": "Python 3 (ipykernel)",
   "language": "python",
   "name": "python3"
  },
  "language_info": {
   "codemirror_mode": {
    "name": "ipython",
    "version": 3
   },
   "file_extension": ".py",
   "mimetype": "text/x-python",
   "name": "python",
   "nbconvert_exporter": "python",
   "pygments_lexer": "ipython3",
   "version": "3.10.8"
  }
 },
 "nbformat": 4,
 "nbformat_minor": 5
}
