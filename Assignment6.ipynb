{
 "cells": [
  {
   "cell_type": "code",
   "execution_count": 7,
   "id": "c69c6aee-b91c-499c-a178-e75f20d8baf5",
   "metadata": {},
   "outputs": [
    {
     "name": "stdout",
     "output_type": "stream",
     "text": [
      "100000\n",
      "40000\n"
     ]
    }
   ],
   "source": [
    "#Q1. Explain Class and Object with respect to Object-Oriented Programming. Give a suitable example.\n",
    "\"\"\"A class is like a bluprint of object or you can call class as a sketch of a house while an object is an instance of a class\n",
    "for eg- vehicle is a type of class and bike,scotter,car etc are ts objects\"\"\"\n",
    "class vehicle:#this is a class\n",
    "    def __init__(self,vehicle_type,vehicle_price):\n",
    "        self.vehicle_type=vehicle_type\n",
    "        self.vehicle_price=vehicle_price\n",
    "\n",
    "car=vehicle(\"car\",100000)#objects of class vehicle\n",
    "bike=vehicle(\"bike\",40000)\n",
    "print(car.vehicle_price)   #accesing class variable using class\n",
    "print(bike.vehicle_price)"
   ]
  },
  {
   "cell_type": "code",
   "execution_count": null,
   "id": "481b26ad-333a-4701-ae95-e093ae1c1450",
   "metadata": {},
   "outputs": [],
   "source": [
    "#Q2. Name the four pillars of OOPs.\n",
    "\"\"\"Four pillars of oops are:1.Polymorphism\n",
    "                            2.Encapsulation\n",
    "                            3.Inheritance\n",
    "                            4.Abstraction\n",
    "                            "
   ]
  },
  {
   "cell_type": "code",
   "execution_count": 9,
   "id": "483da4bd-4e38-4920-a895-56ec043b66a6",
   "metadata": {},
   "outputs": [
    {
     "name": "stdout",
     "output_type": "stream",
     "text": [
      "dsa\n",
      "2000\n"
     ]
    }
   ],
   "source": [
    "#Q3. Explain why the __init__() function is used. Give a suitable example.\n",
    "\"\"\"The __init__() is a dunder methor which is called everytime when an object of a class is created.It is a constructor for a class\n",
    "and used to initialize them.\"\"\"\n",
    "class course:\n",
    "    def __init__(self,name,price):\n",
    "        self.name=name#initialize class variables\n",
    "        self.price=price\n",
    "obj=course(\"dsa\",2000)#object of class\n",
    "print(obj.name)\n",
    "print(obj.price)"
   ]
  },
  {
   "cell_type": "code",
   "execution_count": 10,
   "id": "5ec2655c-67cc-448f-9071-b939ede8cd22",
   "metadata": {},
   "outputs": [
    {
     "data": {
      "text/plain": [
       "('doll', 200)"
      ]
     },
     "execution_count": 10,
     "metadata": {},
     "output_type": "execute_result"
    }
   ],
   "source": [
    "#Q4. Why self is used in OOPs?\n",
    "\"\"\"Self variable represents the instance of a class.It binds and used to access the attributes and methids of a class\"\"\"\n",
    "class item:\n",
    "    def __init__(self,name,price):\n",
    "        self.name=name#access the attributes if class\n",
    "        self.price=price\n",
    "    def show(self):#bind this method in class\n",
    "        return self.name,self.price\n",
    "obj=item(\"doll\",200)\n",
    "obj.show()"
   ]
  },
  {
   "cell_type": "code",
   "execution_count": 11,
   "id": "e823f196-2600-49e7-ad8a-ddfeffb66f7f",
   "metadata": {},
   "outputs": [
    {
     "data": {
      "text/plain": [
       "'ram'"
      ]
     },
     "execution_count": 11,
     "metadata": {},
     "output_type": "execute_result"
    }
   ],
   "source": [
    "#Q5. What is inheritance? Give an example for each type of inheritance.\n",
    "\"\"\"When a child class inherits properties from another class or parent class it is called inheritance\"\"\"\n",
    "class parent:#parent class\n",
    "    def __init__(self):\n",
    "        self.name=\"ram\"\n",
    "class child(parent):#child class\n",
    "    pass\n",
    "obj=child()\n",
    "obj.name    #with the help of child class access parent class variable"
   ]
  }
 ],
 "metadata": {
  "kernelspec": {
   "display_name": "Python 3 (ipykernel)",
   "language": "python",
   "name": "python3"
  },
  "language_info": {
   "codemirror_mode": {
    "name": "ipython",
    "version": 3
   },
   "file_extension": ".py",
   "mimetype": "text/x-python",
   "name": "python",
   "nbconvert_exporter": "python",
   "pygments_lexer": "ipython3",
   "version": "3.10.8"
  }
 },
 "nbformat": 4,
 "nbformat_minor": 5
}
