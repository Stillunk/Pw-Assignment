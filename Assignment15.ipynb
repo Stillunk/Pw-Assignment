{
 "cells": [
  {
   "cell_type": "code",
   "execution_count": null,
   "id": "66038c56-b284-4538-8e83-954c455d8991",
   "metadata": {},
   "outputs": [],
   "source": [
    "#Q1. What is Flask Framework? What are the advantages of Flask Framework?\n",
    "\"\"\"\n",
    "Flask is a web framework, it's a Python module that lets you develop web applications easily\n",
    "Advantages of using it:1)It is a lightweight framework that offers hassle-free development.\n",
    "                       2)Provide flexibility to the developer to experiment with their modules or architecture. \n",
    "                       3)It is suitable for small projects.\n",
    "                       4)Offers a built-in development server and fast debugger.\"\"\""
   ]
  },
  {
   "cell_type": "code",
   "execution_count": null,
   "id": "1b2bd4fd-c588-4e7d-99ae-1cb6233c2f56",
   "metadata": {
    "tags": []
   },
   "outputs": [],
   "source": [
    "#Q2. Create a simple Flask application to display ‘Hello World!!’. Attach the screenshot of the output in Jupyter Notebook.\n",
    "from flask import Flask\n",
    "app=Flask(__name__)\n",
    "\n",
    "@app.route(\"/\")\n",
    "def hello_world():\n",
    "    return \"<h3>Hello World!!<h3>\"\n",
    "if __name__==\"__main__\":\n",
    "    app.run(host=\"0.0.0.0\")\n",
    "\n"
   ]
  },
  {
   "cell_type": "markdown",
   "id": "6fe105fb-367e-4361-990b-df795a9429a7",
   "metadata": {},
   "source": [
    "<img src=\"1.png\" style=\"width=20 ; height=20\"> "
   ]
  },
  {
   "cell_type": "code",
   "execution_count": null,
   "id": "bd57108d-c63b-4ec0-b5b4-c91395efd07f",
   "metadata": {},
   "outputs": [],
   "source": [
    "#Q3. What is App routing in Flask? Why do we use app routes?\n",
    "\"\"\"App routing is done with @app. route(\"/\") which  is a Python decorator that Flask provides to assign URLs in our app to functions easily.\n",
    "The decorator is telling our @app that whenever a user visits our app domain at the given . route() , execute the home() function.\n",
    "This is what app route do it maps or bind url with a certain function.\"\"\""
   ]
  },
  {
   "cell_type": "code",
   "execution_count": null,
   "id": "7bd608c9-e5a9-4074-a5b9-c9b059d2c622",
   "metadata": {},
   "outputs": [],
   "source": [
    "\"\"\"Q4. Create a “/welcome” route to display the welcome message “Welcome to ABC Corporation” and a “/”\n",
    "route to show the following details:\n",
    "Company Name: ABC Corporation\n",
    "Location: India\n",
    "Contact Detail: 999-999-9999\n",
    "Attach the screenshot of the output in Jupyter Notebook.\"\"\"\n",
    "from flask import Flask\n",
    "app=Flask(__name__)\n",
    "\n",
    "@app.route(\"/welcome\")\n",
    "def welcome():\n",
    "    return \"<h2>Welcome to ABC Corporation</h2>\"\n",
    "@app.route(\"/\")\n",
    "def details():\n",
    "    return \"<p>Company Name: ABC Corporation</p><p>Location: India</p><p>Contact Detail: 999-999-9999</p>\"\n",
    "if __name__==\"__main__\":\n",
    "    app.run(host=\"0.0.0.0\")"
   ]
  },
  {
   "cell_type": "markdown",
   "id": "06bc7f89-bb9c-4556-8dbe-95681bf6d493",
   "metadata": {},
   "source": [
    "<img src=\"2.png\" style=\"width=20 ; height=20\"> "
   ]
  },
  {
   "cell_type": "code",
   "execution_count": null,
   "id": "ee3b0b83-9268-427b-a27e-4a88331ea3e6",
   "metadata": {},
   "outputs": [],
   "source": [
    "#Q5. What function is used in Flask for URL Building? Write a Python code to demonstrate the working of the url_for() function.\n",
    "\"\"\"Flask URL building is the process of generating URLs dynamically within your Flask web application.\n",
    "url_for() is the function used for URL building\"\"\"\n",
    "from flask import Flask,redirect,url_for\n",
    "app=Flask(__name__)\n",
    "\n",
    "@app.route(\"/\")\n",
    "def home():\n",
    "    return \"<h3>Hello Welcome to HOME page<h3> and its url is {}\".format(url_for('home'))#it return the url i.e .route for home\n",
    "if __name__==\"__main__\":\n",
    "    app.run(host=\"0.0.0.0\")\n",
    "\n"
   ]
  }
 ],
 "metadata": {
  "kernelspec": {
   "display_name": "Python 3 (ipykernel)",
   "language": "python",
   "name": "python3"
  },
  "language_info": {
   "codemirror_mode": {
    "name": "ipython",
    "version": 3
   },
   "file_extension": ".py",
   "mimetype": "text/x-python",
   "name": "python",
   "nbconvert_exporter": "python",
   "pygments_lexer": "ipython3",
   "version": "3.10.8"
  },
  "toc-autonumbering": true
 },
 "nbformat": 4,
 "nbformat_minor": 5
}
