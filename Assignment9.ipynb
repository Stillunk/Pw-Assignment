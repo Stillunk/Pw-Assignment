{
 "cells": [
  {
   "cell_type": "code",
   "execution_count": null,
   "id": "d9f27064-d6a0-47a8-9e73-af8312e10973",
   "metadata": {},
   "outputs": [],
   "source": [
    "#Q1. Explain why we have to use the Exception class while creating a Custom Exception.\n",
    "\"\"\"We use Exception class(base class of exception) to create a class as an exception class and power to create custom expception as per user needs\"\"\""
   ]
  },
  {
   "cell_type": "code",
   "execution_count": null,
   "id": "337b9b81-d0b0-4b5e-8c71-492a9ae9bd54",
   "metadata": {},
   "outputs": [],
   "source": [
    "#Q2. Write a python program to print Python Exception Hierarchy.\n",
    "def print_exception_hierarchy():\n",
    "    exception_classes = [BaseException]\n",
    "    while exception_classes:\n",
    "        exception_class = exception_classes.pop(0)\n",
    "        print(exception_class.__name__)\n",
    "        exception_classes.extend(exception_class.__subclasses__())\n",
    "\n",
    "if __name__ == \"__main__\":\n",
    "    print(\"Python Exception Hierarchy:\")\n",
    "    print_exception_hierarchy()\n"
   ]
  },
  {
   "cell_type": "code",
   "execution_count": 12,
   "id": "278efb8c-7f3d-4852-ba4a-0f23b5901052",
   "metadata": {},
   "outputs": [
    {
     "name": "stdout",
     "output_type": "stream",
     "text": [
      "division by zero\n",
      "Exceeds the limit (4300) for integer string conversion; use sys.set_int_max_str_digits() to increase the limit\n"
     ]
    }
   ],
   "source": [
    "#Q3. What errors are defined in the ArithmeticError class? Explain any two with an example.\n",
    "\"\"\"ArithmeticError is simply an error that occurs during numeric calculations.\n",
    "ArithmeticError types in Python include: OverFlowError. ZeroDivisionError.\"\"\"\n",
    "try:\n",
    "    a=10/0\n",
    "except ZeroDivisionError as e:\n",
    "    print(e)\n",
    "    \n",
    "try:\n",
    "    print(10**10000)\n",
    "except Exception as e:\n",
    "    print(e)"
   ]
  },
  {
   "cell_type": "code",
   "execution_count": 16,
   "id": "85540952-fbdb-4512-a284-98be5cc0721e",
   "metadata": {},
   "outputs": [
    {
     "name": "stdout",
     "output_type": "stream",
     "text": [
      "list index out of range\n",
      "'key3'\n"
     ]
    }
   ],
   "source": [
    "#Q4. Why LookupError class is used? Explain with an example KeyError and IndexError.\n",
    "#The LookupError exception in Python forms the base class for all exceptions that are raised \n",
    "#when an index or a key is not found for a sequence or dictionary respectively.\n",
    "try:\n",
    "    l=[1,23,4]\n",
    "    print(l[4])#printing index out of range\n",
    "except IndexError as e:\n",
    "    print(e)\n",
    "\n",
    "try:\n",
    "    d={\"key\":1,\"key2\":2}\n",
    "    print(d[\"key3\"])#printing key which don't exist\n",
    "except KeyError as e:\n",
    "    print(e)\n"
   ]
  },
  {
   "cell_type": "code",
   "execution_count": null,
   "id": "00f64d1c-73fc-4e7c-a93c-4a7dc29fa159",
   "metadata": {},
   "outputs": [],
   "source": [
    "#Q5. Explain ImportError. What is ModuleNotFoundError?\n",
    "\"\"\"Importerror occurs when python have trouble importing module.The 'module not found' error in Python occurs when the interpreter\n",
    "is unable to import the specified module when that don't exist\"\"\"\n",
    "try:\n",
    "    import name\n",
    "ex"
   ]
  }
 ],
 "metadata": {
  "kernelspec": {
   "display_name": "Python 3 (ipykernel)",
   "language": "python",
   "name": "python3"
  },
  "language_info": {
   "codemirror_mode": {
    "name": "ipython",
    "version": 3
   },
   "file_extension": ".py",
   "mimetype": "text/x-python",
   "name": "python",
   "nbconvert_exporter": "python",
   "pygments_lexer": "ipython3",
   "version": "3.10.8"
  }
 },
 "nbformat": 4,
 "nbformat_minor": 5
}
