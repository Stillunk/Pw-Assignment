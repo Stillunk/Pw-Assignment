{
 "cells": [
  {
   "cell_type": "code",
   "execution_count": null,
   "id": "64c758fe-dd6d-4dcb-ac19-68767fc1f454",
   "metadata": {},
   "outputs": [],
   "source": [
    "#Q1Create Variable String List Float Tuple\n",
    "a=\"string\"        #stringvA\n",
    "b=[1,2,3,\"ab\",4]  #LIST VAR\n",
    "c=(1,2,'A',4)     #TUPLE Var\n",
    "d=1.23            # float\n"
   ]
  },
  {
   "cell_type": "code",
   "execution_count": 21,
   "id": "c6cb6a81-06ce-4dfc-83e5-338cb8ec9535",
   "metadata": {},
   "outputs": [
    {
     "name": "stdout",
     "output_type": "stream",
     "text": [
      "<class 'str'>\n",
      "<class 'str'>\n",
      "<class 'list'>\n",
      "<class 'float'>\n"
     ]
    }
   ],
   "source": [
    "#2nd find type\n",
    "var1 = \" \"                         #str type\n",
    "var2 = \"[ DS , ML , Python]\"       #Str type\n",
    "var3 = [\"DS\" , \"ML\" , \"Python\"]    #List type\n",
    "var4 = 1.2                          #Float type\n",
    "print(type(var1))\n",
    "print(type(var2))\n",
    "print(type(var3))\n",
    "print(type(var4))"
   ]
  },
  {
   "cell_type": "code",
   "execution_count": 28,
   "id": "8f39ddb3-1c27-42aa-aa81-fb08ce532177",
   "metadata": {},
   "outputs": [
    {
     "name": "stdout",
     "output_type": "stream",
     "text": [
      "0.5\n",
      "2\n",
      "7\n",
      "1024\n"
     ]
    }
   ],
   "source": [
    "#Q3. Explain the use of the following operators using an example:\n",
    "#(i) / = This is a arithmetic operator used to perform division\n",
    "print(10/20)\n",
    "#(ii) % = This is arithmetic operator called modulus gives remainder after division\n",
    "print(32%10)\n",
    "#(iii) // = This is an arithmetic operator called floor divison produce quotient in integer type\n",
    "print(21//3)\n",
    "#(iv) ** = This is an arithmetic operator called exponent used to calculate power of a no like 2 power 10\n",
    "print(2**10)"
   ]
  },
  {
   "cell_type": "code",
   "execution_count": 29,
   "id": "a099efbe-724b-4003-a12c-f0b136c152bf",
   "metadata": {},
   "outputs": [
    {
     "name": "stdout",
     "output_type": "stream",
     "text": [
      "1  its type  <class 'int'>\n",
      "2  its type  <class 'int'>\n",
      "hi  its type  <class 'str'>\n",
      "4  its type  <class 'int'>\n",
      "a  its type  <class 'str'>\n",
      "5  its type  <class 'int'>\n",
      "6  its type  <class 'int'>\n",
      "7  its type  <class 'int'>\n",
      "8.2  its type  <class 'float'>\n",
      "1.1  its type  <class 'float'>\n"
     ]
    }
   ],
   "source": [
    "#Q4. Create a list of length 10 of your choice containing multiple types of data. Using for loop print the element and its data type.\n",
    "l=[1,2,\"hi\",4,\"a\",5,6,7,8.2,1.1]\n",
    "for i in l:\n",
    "    print(i,\" its type \",type(i))"
   ]
  },
  {
   "cell_type": "code",
   "execution_count": 34,
   "id": "eca14756-9e7c-4be1-8d82-17686e8de570",
   "metadata": {},
   "outputs": [
    {
     "name": "stdout",
     "output_type": "stream",
     "text": [
      "No. of time A divisible by B is-: 2\n"
     ]
    }
   ],
   "source": [
    "#Q5. Using a while loop, verify if the number A is purely divisible by number B and if so then how many times it can be divisible.\n",
    "#let A=16 and B=4 A is purely divisoble by B\n",
    "A=16\n",
    "B=4\n",
    "count=0\n",
    "while A%B==0:\n",
    "    count= count + 1\n",
    "    A=A//B\n",
    "print(\"No. of time A divisible by B is-:\",count)    "
   ]
  },
  {
   "cell_type": "code",
   "execution_count": 35,
   "id": "4ca77f75-5f15-45b5-b6b8-39e0475f7de7",
   "metadata": {},
   "outputs": [
    {
     "name": "stdout",
     "output_type": "stream",
     "text": [
      "1  not divisble by 3\n",
      "2  not divisble by 3\n",
      "3  is divisble by 3\n",
      "4  not divisble by 3\n",
      "5  not divisble by 3\n",
      "6  is divisble by 3\n",
      "7  not divisble by 3\n",
      "8  not divisble by 3\n",
      "9  is divisble by 3\n",
      "10  not divisble by 3\n",
      "11  not divisble by 3\n",
      "12  is divisble by 3\n",
      "13  not divisble by 3\n",
      "14  not divisble by 3\n",
      "15  is divisble by 3\n",
      "16  not divisble by 3\n",
      "17  not divisble by 3\n",
      "18  is divisble by 3\n",
      "19  not divisble by 3\n",
      "20  not divisble by 3\n",
      "21  is divisble by 3\n",
      "22  not divisble by 3\n",
      "23  not divisble by 3\n",
      "24  is divisble by 3\n",
      "25  not divisble by 3\n"
     ]
    }
   ],
   "source": [
    "#Q6. Create a list containing 25 int type data. Using for loop and if-else condition print if the element is divisible by 3 or not.\n",
    "l=[1,2,3,4,5,6,7,8,9,10,11,12,13,14,15,16,17,18,19,20,21,22,23,24,25]\n",
    "for i in l:\n",
    "    if i%3==0:\n",
    "        print(i,\" is divisble by 3\")\n",
    "    else:\n",
    "        print(i,\" not divisble by 3\")"
   ]
  },
  {
   "cell_type": "code",
   "execution_count": 37,
   "id": "bc4b22e4-ccc8-4b2f-91a3-83e601a91952",
   "metadata": {},
   "outputs": [
    {
     "name": "stdout",
     "output_type": "stream",
     "text": [
      "[1, 2, 'abc', 4]\n",
      "[1, 'hi', 'abc', 4]\n",
      "t\n"
     ]
    }
   ],
   "source": [
    "#Q7. What do you understand about mutable and immutable data types? Give examples for both showing this property.\n",
    "#These both data types are classified on the basis of update in value of varibale with the help of indexing if updation \n",
    "#is possible with the help of indexing it is called mutable data type eg- list etc and if not possible they are called inmutable data type\n",
    "#eg string data type etc.\n",
    "string=\"stringtype\"\n",
    "l=[1,2,\"abc\",4]\n",
    "print(l)\n",
    "l[1]=\"hi\"   # mutable as update l[1] from 2 to hi\n",
    "print(l)\n",
    "print(string[1])\n",
    "#string[1]=\"c\"       not possible guves error so immutable"
   ]
  }
 ],
 "metadata": {
  "kernelspec": {
   "display_name": "Python 3 (ipykernel)",
   "language": "python",
   "name": "python3"
  },
  "language_info": {
   "codemirror_mode": {
    "name": "ipython",
    "version": 3
   },
   "file_extension": ".py",
   "mimetype": "text/x-python",
   "name": "python",
   "nbconvert_exporter": "python",
   "pygments_lexer": "ipython3",
   "version": "3.10.8"
  }
 },
 "nbformat": 4,
 "nbformat_minor": 5
}
