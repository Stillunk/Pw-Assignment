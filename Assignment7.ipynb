{
 "cells": [
  {
   "cell_type": "code",
   "execution_count": 2,
   "id": "d2643f2e-c56f-47ec-9942-6d53ff8d2e26",
   "metadata": {},
   "outputs": [
    {
     "name": "stdout",
     "output_type": "stream",
     "text": [
      "student details b\n",
      "student details c\n"
     ]
    }
   ],
   "source": [
    "#Q1. What is Abstraction in OOps? Explain with an example.\n",
    "\"\"\"   Abstraction provides a programmer to hide all the irrelevant data/process of an application in order to reduce complexity \n",
    "and increase the efficiency of the program. In Python, abstraction can be achieved by using abstract classes and methods in our programs.\"\"\"\n",
    "import abc#for abstractmethod\n",
    "class a:\n",
    "#absatract class cretae blueprint outlinee\n",
    "#all other can define it i their own way\n",
    "    @abc.abstractmethod\n",
    "    def details(self):\n",
    "        pass\n",
    "#create skeleton\n",
    "    @abc.abstractmethod\n",
    "    def marks(self):\n",
    "        pass\n",
    "\n",
    "class b(a):\n",
    "    def details(self):\n",
    "        return \"student details b\"\n",
    "    def marks(self):\n",
    "        return \"Marks\"\n",
    "    \n",
    "class c(a):\n",
    "    def details(self):\n",
    "        return \"student details c\"\n",
    "    def marks(self):\n",
    "        return \"Marks c\"\n",
    "    \n",
    "obj=b()\n",
    "print(obj.details())\n",
    "obj1=c()\n",
    "print(obj1.details())"
   ]
  },
  {
   "cell_type": "code",
   "execution_count": 2,
   "id": "993a9e66-7ef7-4c93-a4e1-62b2a37df812",
   "metadata": {},
   "outputs": [
    {
     "name": "stdout",
     "output_type": "stream",
     "text": [
      "Account 1 balance: 1000\n",
      "Account 2 balance: 500\n",
      "Account 1 balance after deposit: 1500\n",
      "Account 2 balance after withdrawal: 300\n"
     ]
    }
   ],
   "source": [
    "#Q2. Differentiate between Abstraction and Encapsulation. Explain with an example.\n",
    "\"\"\"Abstraction- Abstraction provides a programmer to hide all the irrelevant data/process of an application in order to reduce complexity \n",
    "and increase the efficiency of the program.\n",
    "Encapsulation-It is process of  wrapping up the data and the code acting on the data together as a single unit.\"\"\"\n",
    "class BankAccount:\n",
    "    def __init__(self, account_number, balance):\n",
    "        self.__account_number = account_number  # Encapsulated with double underscores (private)\n",
    "        self.__balance = balance  # Encapsulated with double underscores (private)\n",
    "\n",
    "    def deposit(self, amount):\n",
    "        self.__balance += amount\n",
    "\n",
    "    def withdraw(self, amount):\n",
    "        if amount <= self.__balance:\n",
    "            self.__balance -= amount\n",
    "        else:\n",
    "            print(\"Insufficient balance.\")\n",
    "\n",
    "    def get_balance(self):\n",
    "        return self.__balance\n",
    "\n",
    "    def get_account_number(self):\n",
    "        return self.__account_number\n",
    "\n",
    "# Data abstraction hides the implementation details of the BankAccount class\n",
    "# and only exposes necessary methods to interact with the object.\n",
    "account1 = BankAccount(\"123456789\", 1000)\n",
    "account2 = BankAccount(\"987654321\", 500)\n",
    "\n",
    "print(\"Account 1 balance:\", account1.get_balance())\n",
    "print(\"Account 2 balance:\", account2.get_balance())\n",
    "\n",
    "account1.deposit(500)\n",
    "account2.withdraw(200)\n",
    "\n",
    "print(\"Account 1 balance after deposit:\", account1.get_balance())\n",
    "print(\"Account 2 balance after withdrawal:\", account2.get_balance())\n"
   ]
  },
  {
   "cell_type": "code",
   "execution_count": 3,
   "id": "e5061e00-a7a4-464f-b048-50834f1b7bd3",
   "metadata": {},
   "outputs": [
    {
     "data": {
      "text/plain": [
       "'student details b'"
      ]
     },
     "execution_count": 3,
     "metadata": {},
     "output_type": "execute_result"
    }
   ],
   "source": [
    "#Q3. What is abc module in python? Why is it used?\n",
    "\"\"\"The abc module in python library offer tools to create abstract classes which are used to implement the concept of abstraction\"\"\"\n",
    "import abc#for abstractmethod\n",
    "class a:\n",
    "    @abc.abstractmethod#abstrACT CLASS\n",
    "    def details(self):\n",
    "        pass\n",
    "\n",
    "class b(a):\n",
    "    def details(self):\n",
    "        return \"student details b\"\n",
    "\n",
    "obj=b()\n",
    "obj.details()    \n"
   ]
  },
  {
   "cell_type": "code",
   "execution_count": 12,
   "id": "53a03432-3e6c-4adb-9f8a-e62ef3a44b8b",
   "metadata": {},
   "outputs": [
    {
     "data": {
      "text/plain": [
       "'student details b'"
      ]
     },
     "execution_count": 12,
     "metadata": {},
     "output_type": "execute_result"
    }
   ],
   "source": [
    "#Q4. How can we achieve data abstraction?\n",
    "\"\"\"The concept of data abstraction is archieved with the help of abstract classses in python which is created by importing abc module\n",
    "from pyhton library\"\"\"\n",
    "import abc#for abstractmethod\n",
    "class a:\n",
    "    @abc.abstractmethod#abstrACT CLASS\n",
    "    def details(self):\n",
    "        pass\n",
    "\n",
    "class b(a):\n",
    "    def details(self):\n",
    "        return \"student details b\"\n",
    "    \n",
    "obj=b()\n",
    "obj.details()    \n"
   ]
  },
  {
   "cell_type": "code",
   "execution_count": null,
   "id": "b3d7e5af-ffa1-4598-9ff5-bece4e9083fa",
   "metadata": {},
   "outputs": [],
   "source": [
    "#Q5. Can we create an instance of an abstract class? Explain your answer.\n",
    "\"\"\"We can't create an instance of an abstract class we can just sub classed it which usually contains implementation of abstract methos in its \n",
    "parent class\"\"\""
   ]
  }
 ],
 "metadata": {
  "kernelspec": {
   "display_name": "Python 3 (ipykernel)",
   "language": "python",
   "name": "python3"
  },
  "language_info": {
   "codemirror_mode": {
    "name": "ipython",
    "version": 3
   },
   "file_extension": ".py",
   "mimetype": "text/x-python",
   "name": "python",
   "nbconvert_exporter": "python",
   "pygments_lexer": "ipython3",
   "version": "3.11.4"
  }
 },
 "nbformat": 4,
 "nbformat_minor": 5
}
