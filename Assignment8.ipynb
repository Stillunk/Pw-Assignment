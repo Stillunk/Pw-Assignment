{
 "cells": [
  {
   "cell_type": "markdown",
   "id": "eb39a3f8-4889-4a4b-9623-8687128f4676",
   "metadata": {},
   "source": [
    "Q1. What is am Exception in python?Write the difference between Exceptions and Syntax errors.\n",
    "Exceptions are raised when the program is syntactically correct, but the code results in an error.\n",
    "So, to handle them exception handling is used.It consisit of try ,except,else,finally keyword to handle them.\n",
    "syntax errors are problems or error cause due to improper syntax  in a program due to which the program will stop the execution like(print\"abc\" throws missing paranthesis error which is due to wrong syntax).\n",
    "On the other hand, exceptions are raised when some internal events occur which change the normal flow of the program like a=10/0(throw zerodivisio error). "
   ]
  },
  {
   "cell_type": "code",
   "execution_count": 1,
   "id": "bab05775-c9d2-4669-a5ea-249840283c0d",
   "metadata": {},
   "outputs": [
    {
     "ename": "ZeroDivisionError",
     "evalue": "division by zero",
     "output_type": "error",
     "traceback": [
      "\u001b[0;31m---------------------------------------------------------------------------\u001b[0m",
      "\u001b[0;31mZeroDivisionError\u001b[0m                         Traceback (most recent call last)",
      "Cell \u001b[0;32mIn[1], line 4\u001b[0m\n\u001b[1;32m      2\u001b[0m \u001b[38;5;124;03m\"\"\"If exception arer not handled the program will terminate abruptly and remaining code after that will not get executed\"\"\"\u001b[39;00m\n\u001b[1;32m      3\u001b[0m a\u001b[38;5;241m=\u001b[39m\u001b[38;5;241m10\u001b[39m\n\u001b[0;32m----> 4\u001b[0m a\u001b[38;5;241m=\u001b[39m\u001b[38;5;241;43m10\u001b[39;49m\u001b[38;5;241;43m/\u001b[39;49m\u001b[38;5;241;43m0\u001b[39;49m\n\u001b[1;32m      5\u001b[0m \u001b[38;5;28mprint\u001b[39m(\u001b[38;5;124m\"\u001b[39m\u001b[38;5;124mValue of a is \u001b[39m\u001b[38;5;124m\"\u001b[39m,a)\n",
      "\u001b[0;31mZeroDivisionError\u001b[0m: division by zero"
     ]
    }
   ],
   "source": [
    "#Q2. What happens when an exception is not handled?Explain with an example.\n",
    "\"\"\"If exception arer not handled the program will terminate abruptly and remaining code after that will not get executed\"\"\"\n",
    "a=10\n",
    "a=10/0#this statement throws an error zero division and program terminates here\n",
    "print(\"Value of a is \",a)#this statement will niot be executed"
   ]
  },
  {
   "cell_type": "code",
   "execution_count": 3,
   "id": "f149df86-e555-4c2f-ac7e-1f8992e7c0c2",
   "metadata": {},
   "outputs": [
    {
     "name": "stdout",
     "output_type": "stream",
     "text": [
      "This is to handle exception which is: division by zero\n"
     ]
    }
   ],
   "source": [
    "#Q3 Which python statements are used to catch and handle exception?Explain with example\n",
    "\"\"\"Try and except statements are used to catch and handle exceptions.The statements that can cause or raise exception are kept inside try and \n",
    "the statemnts that are used to handle that exceptions are kept inside except.\"\"\"\n",
    "try:\n",
    "    a=1\n",
    "    a=a/0\n",
    "except Exception as e:\n",
    "    print(\"This is to handle exception which is:\",e)"
   ]
  },
  {
   "cell_type": "code",
   "execution_count": 7,
   "id": "d5867420-53bf-4d04-8a51-36683fa977a1",
   "metadata": {},
   "outputs": [
    {
     "name": "stdout",
     "output_type": "stream",
     "text": [
      "Raise executed This is not whole no\n",
      "FInally statement exectued\n"
     ]
    }
   ],
   "source": [
    "#Q4Explain with an example: a) try and else  b)finally c) raise\n",
    "\n",
    "class validwhole(Exception):  #an exception class to validate whole no\n",
    "    def __init__(self,msg):\n",
    "        self.msg=msg\n",
    "def validwholen(no):\n",
    "    if no<=0:\n",
    "        raise validwhole(\"Raise executed This is not whole no\")#raise condiiton is used to call that exceeption class\n",
    "    else:\n",
    "        print(\"valid whole no\")\n",
    "\n",
    "try: #try contains that statements that can cause exceptions\n",
    "    no=-19\n",
    "    validwholen(no)\n",
    "except validwhole as e:\n",
    "    print(e)\n",
    "else: #else contains statemnts which get executed only when try all statements executed successfully without any exceptions\n",
    "    print(\"Else statement executed\")\n",
    "finally:#this contains statements which will be executed always whether there is exception or not\n",
    "    print(\"FInally statement exectued\")"
   ]
  },
  {
   "cell_type": "code",
   "execution_count": 8,
   "id": "b8cf59fd-7305-4da4-917f-d331029c1718",
   "metadata": {},
   "outputs": [
    {
     "name": "stdout",
     "output_type": "stream",
     "text": [
      "Invalid age\n"
     ]
    }
   ],
   "source": [
    "#Q5What are custom exceptions?why do we need custom exceptions?Explain with an example.\n",
    "\"\"\"Bulit in exception contain python related problems and custom exception are used to solve our project or our usage according exceptions\n",
    "like we need to take age input from user and user enter -ve value that doesn't give error but that is not valid as per our answer that why\n",
    "we need custom exception to handle them.\"\"\"\n",
    "#here creating a program to check valid age using custom exceptions\n",
    "class validage(Exception):\n",
    "    def __init__(self,msg):\n",
    "        self.msg=msg\n",
    "def validdage(age):\n",
    "    if age<=0 or age>200:\n",
    "        raise validage(\"Invalid age\")\n",
    "    else:\n",
    "        print(\"Valid age\")\n",
    "try:\n",
    "    age=-19\n",
    "    validdage(age)\n",
    "except validage as e:\n",
    "    print(e)"
   ]
  },
  {
   "cell_type": "code",
   "execution_count": null,
   "id": "abd91fe0-632f-4a6f-befb-a93ea67f1114",
   "metadata": {},
   "outputs": [],
   "source": [
    "#Q6Crete a custom exception class"
   ]
  }
 ],
 "metadata": {
  "kernelspec": {
   "display_name": "Python 3 (ipykernel)",
   "language": "python",
   "name": "python3"
  },
  "language_info": {
   "codemirror_mode": {
    "name": "ipython",
    "version": 3
   },
   "file_extension": ".py",
   "mimetype": "text/x-python",
   "name": "python",
   "nbconvert_exporter": "python",
   "pygments_lexer": "ipython3",
   "version": "3.10.8"
  }
 },
 "nbformat": 4,
 "nbformat_minor": 5
}
