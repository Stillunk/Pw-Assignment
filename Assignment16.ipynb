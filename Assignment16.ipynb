{
 "cells": [
  {
   "cell_type": "code",
   "execution_count": null,
   "id": "362d43ac-e16c-4bf5-9211-0124bea6837b",
   "metadata": {},
   "outputs": [],
   "source": [
    "#Q1. Explain GET and POST methods.\n",
    "\"\"\" The GET method sends information by appending it to the URL.\n",
    "The POST method generates a FORM collection, which is sent as a HTTP request body.\n",
    "All the values typed in the form will be stored in the FORM collection.\"\"\""
   ]
  },
  {
   "cell_type": "code",
   "execution_count": null,
   "id": "31ad519e-f82f-409a-b9e1-a9ff94607af9",
   "metadata": {},
   "outputs": [],
   "source": [
    "#Q2. Why is request used in Flask?\n",
    "\"\"\"In the client-server architecture, the request object contains all the data that is sent from the client to the server\"\""
   ]
  },
  {
   "cell_type": "code",
   "execution_count": null,
   "id": "f6029704-13de-4b67-ae58-688008e4ddbd",
   "metadata": {},
   "outputs": [],
   "source": [
    "#Q3. Why is redirect() used in Flask?\n",
    "\"\"\"Flask redirect is defined as a function or utility in Flask which allows developers to redirect users \n",
    "to a specified URL and assign a specified status code.When this function is called, a response object is returned,\n",
    "and the redirection happens to the target location\"\"\""
   ]
  },
  {
   "cell_type": "code",
   "execution_count": null,
   "id": "f634be1a-cc59-4fe2-8d03-1ff93d0f8227",
   "metadata": {},
   "outputs": [],
   "source": [
    "#Q4. What are templates in Flask? Why is the render_template() function used?\n",
    "\"\"\"Templates are files that contain static data as well as placeholders for dynamic data.\n",
    "A template is rendered with specific data to produce a final document.\n",
    "render_template is a Flask function from the flask. render_template is used to generate output from a template file."
   ]
  },
  {
   "cell_type": "code",
   "execution_count": 10,
   "id": "c645ad51-963e-4b06-b206-52434e719ec7",
   "metadata": {},
   "outputs": [
    {
     "name": "stdout",
     "output_type": "stream",
     "text": [
      "Requirement already satisfied: flask in /opt/conda/lib/python3.10/site-packages (2.3.2)\n",
      "Requirement already satisfied: click>=8.1.3 in /opt/conda/lib/python3.10/site-packages (from flask) (8.1.3)\n",
      "Requirement already satisfied: Jinja2>=3.1.2 in /opt/conda/lib/python3.10/site-packages (from flask) (3.1.2)\n",
      "Requirement already satisfied: itsdangerous>=2.1.2 in /opt/conda/lib/python3.10/site-packages (from flask) (2.1.2)\n",
      "Requirement already satisfied: Werkzeug>=2.3.3 in /opt/conda/lib/python3.10/site-packages (from flask) (2.3.6)\n",
      "Requirement already satisfied: blinker>=1.6.2 in /opt/conda/lib/python3.10/site-packages (from flask) (1.6.2)\n",
      "Requirement already satisfied: MarkupSafe>=2.0 in /opt/conda/lib/python3.10/site-packages (from Jinja2>=3.1.2->flask) (2.1.1)\n",
      "Note: you may need to restart the kernel to use updated packages.\n"
     ]
    }
   ],
   "source": [
    "pip install flask"
   ]
  },
  {
   "cell_type": "code",
   "execution_count": null,
   "id": "ae67dc25-e0ca-4c2a-ae97-dd756138121f",
   "metadata": {},
   "outputs": [
    {
     "name": "stdout",
     "output_type": "stream",
     "text": [
      " * Serving Flask app '__main__'\n",
      " * Debug mode: off\n"
     ]
    },
    {
     "name": "stderr",
     "output_type": "stream",
     "text": [
      "WARNING: This is a development server. Do not use it in a production deployment. Use a production WSGI server instead.\n",
      " * Running on all addresses (0.0.0.0)\n",
      " * Running on http://127.0.0.1:5000\n",
      " * Running on http://172.18.0.11:5000\n",
      "Press CTRL+C to quit\n",
      "172.18.0.2 - - [12/Aug/2023 18:26:04] \"POST / HTTP/1.1\" 200 -\n"
     ]
    }
   ],
   "source": [
    "#Q5. Create a simple API. Use Postman to test it. Attach the screenshot of the output in the Jupyter Notebook.\n",
    "from flask import Flask \n",
    "app=Flask(__name__)\n",
    "\n",
    "@app.route('/',methods=['POST'])\n",
    "def start():\n",
    "    return \"This is a simple api\"\n",
    "\n",
    "if __name__==\"__main__\":\n",
    "    app.run(\"0.0.0.0\")"
   ]
  },
  {
   "cell_type": "markdown",
   "id": "b82a78fa-4c90-4efb-9785-10922308c9da",
   "metadata": {},
   "source": [
    "<img src=\"11.png\" height=500 width=500>"
   ]
  }
 ],
 "metadata": {
  "kernelspec": {
   "display_name": "Python 3 (ipykernel)",
   "language": "python",
   "name": "python3"
  },
  "language_info": {
   "codemirror_mode": {
    "name": "ipython",
    "version": 3
   },
   "file_extension": ".py",
   "mimetype": "text/x-python",
   "name": "python",
   "nbconvert_exporter": "python",
   "pygments_lexer": "ipython3",
   "version": "3.10.8"
  }
 },
 "nbformat": 4,
 "nbformat_minor": 5
}
