{
 "cells": [
  {
   "cell_type": "code",
   "execution_count": null,
   "metadata": {},
   "outputs": [],
   "source": [
    "#Q1. What is an API? Give an example, where an API is used in real life.\n",
    "\"\"\"APIs(Application Programming Interface) are used in web applications to connect user-facing front ends with critical back-end functionality and data.\n",
    "examples are- placing an order on amazon, naviagting using google maps etc\"\"\"\n"
   ]
  },
  {
   "cell_type": "code",
   "execution_count": null,
   "metadata": {},
   "outputs": [],
   "source": [
    "#Q2. Give advantages and disadvantages of using API.\n",
    "\"\"\"ADVANTAGES are-Incerased Interoperatibility\n",
    "                  Improved Efficiency\n",
    "                  Better user experience\n",
    "                  Increased Flexibility\n",
    "                  \n",
    "DISADVANTAGES are-Complexity\n",
    "                  Security Issues\n",
    "                  Governance and management\n",
    "                  compatibility issues\n",
    "                  \"\"\""
   ]
  },
  {
   "cell_type": "code",
   "execution_count": null,
   "metadata": {},
   "outputs": [],
   "source": [
    "#Q3. What is a Web API? Differentiate between API and Web API.\n",
    "\"\"\"A Web API  or Web Application Programming Interface, is an interface that allows different software applications to communicate \n",
    "and interact with each other over the internet.\n",
    "A Web API is a specific type of API that operates over the web using HTTP/HTTPS protocols, allowing different applications to interact with web services \n",
    "and exchange data over the internet. APIs, on the other hand, can have broader use cases and may operate in various environments, not limited to the web.\"\"\""
   ]
  },
  {
   "cell_type": "code",
   "execution_count": null,
   "metadata": {},
   "outputs": [],
   "source": [
    "#Q4. Explain REST and SOAP Architecture. Mention shortcomings of SOAP.\n",
    "\"\"\"\n",
    "REST (Representational State Transfer)-is an architectural style that emphasizes a stateless client-server communication model and leverages standard HTTP \n",
    "methods (GET, POST, PUT, DELETE) to interact with resources (data) on the server. It relies on the principles of simplicity, scalability, and\n",
    " a uniform interface to build web services.\n",
    "SOAP (Simple Object Access Protocol)-is a protocol that defines a set of rules for structuring messages to enable communication between different systems. \n",
    "It relies on XML to format the messages and can use various transport protocols, such as HTTP, SMTP, and others.\n",
    "Shortcomings of SOAP:Complexity\n",
    "                     Performance \n",
    "                     Limited support for Web APIs\n",
    "                     Tight Coupling\n",
    "\"\"\""
   ]
  },
  {
   "cell_type": "code",
   "execution_count": 1,
   "metadata": {},
   "outputs": [
    {
     "data": {
      "text/plain": [
       "''"
      ]
     },
     "execution_count": 1,
     "metadata": {},
     "output_type": "execute_result"
    }
   ],
   "source": [
    "#Q5. Differentiate between REST and SOAP.\n",
    "\"\"\"\n",
    "REST and SOAP are different approaches to designing web services. REST is focused on simplicity, statelessness, and using standard HTTP methods, \n",
    "while SOAP relies on XML-based messaging and provides more advanced features but with added complexity.\n",
    "The choice between REST and SOAP depends on the specific requirements and use case of the application.\"\"\""
   ]
  }
 ],
 "metadata": {
  "kernelspec": {
   "display_name": "Python 3",
   "language": "python",
   "name": "python3"
  },
  "language_info": {
   "codemirror_mode": {
    "name": "ipython",
    "version": 3
   },
   "file_extension": ".py",
   "mimetype": "text/x-python",
   "name": "python",
   "nbconvert_exporter": "python",
   "pygments_lexer": "ipython3",
   "version": "3.11.4"
  },
  "orig_nbformat": 4
 },
 "nbformat": 4,
 "nbformat_minor": 2
}
