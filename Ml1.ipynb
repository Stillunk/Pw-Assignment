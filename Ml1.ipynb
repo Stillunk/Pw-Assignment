{
 "cells": [
  {
   "cell_type": "markdown",
   "metadata": {},
   "source": [
    "Q1- Explain the following with example:\n",
    "1) Artificial Intelligence\n",
    "2) MachinK Learning\n",
    "3) Deep Learning\n",
    "\n",
    "A1-Artificial Intelligence is the concept of creating smart intelligent machines.eg-AI robots,self driving vehicles etc.\n",
    "\n",
    "Machine Learning is a subset of artificial intelligence that helps you build AI-driven applications.eg-Sales forecasting,stock price prediction etc.\n",
    "\n",
    "Deep Learning is a subset of machine learning that uses vast volumes of data and complex algorithms to train a model.eg-object detection,music generation etc."
   ]
  },
  {
   "cell_type": "markdown",
   "metadata": {},
   "source": [
    "Q2- What is supervised learning? List some examples of supervised learning.\n",
    "\n",
    "A2-In supervised learning, the data is already labeled, which means you know the target variable. Using this method of learning, systems can predict future outcomes based on past data. It requires that at least an input and output variable be given to the model for it to be trained. \n",
    "\n",
    "eg-an algorithm is trained using labeled data of dogs and cats. The trained model predicts whether the new image is that of a cat or a dog.\n",
    "\n"
   ]
  },
  {
   "cell_type": "markdown",
   "metadata": {},
   "source": [
    "Q3- What is unsupervised learning? List some examples of unsupervised learning.\n",
    "\n",
    "A3-Unsupervised learning algorithms employ unlabeled data to discover patterns from the data on their own. The systems are able to identify hidden features from the input data provided. Once the data is more readable, the patterns and similarities become more evident.\n",
    "\n",
    "eg- a model is trained by the unlabeled dataset consists of different vehicles. The purpose of the model is to classify each kind of vehicle.\n",
    "\n",
    "\n"
   ]
  },
  {
   "cell_type": "markdown",
   "metadata": {},
   "source": [
    "Q4- What is the difference between AI, ML, DL, and DS?\n",
    "\n",
    "A4-Artificial Intelligence is the concept of creating smart intelligent machines. \n",
    "\n",
    "Machine Learning is a subset of artificial intelligence that helps you build AI-driven applications.\n",
    "\n",
    "Deep Learning is a subset of machine learning that uses vast volumes of data and complex algorithms to train a model.\n",
    "\n",
    "Data Science works by sourcing, cleaning, and processing data to extract meaning out of it for analytical purposes.\n",
    "Data science focuses on using data to help businesses analyze and understand trends."
   ]
  },
  {
   "cell_type": "markdown",
   "metadata": {},
   "source": [
    "Q5- What are the main differences between supervised, unsupervised, and semi-supervised learning?\n",
    "\n",
    "A5-Supervised learning is a type of learning where labeled data is used to train a model, while semi-supervised learning is a combination of supervised and unsupervised learning as it leverage both labeled and unlabeled data to achieve better accuracy than traditional supervised and unsupervised learning methods , where both labeled and unlabeled data are used for training. "
   ]
  },
  {
   "cell_type": "markdown",
   "metadata": {},
   "source": [
    "Q6- What is train, test and validation split? Explain the importance of each term.\n",
    "\n",
    "A6-Data splitting divides a dataset into three main subsets: \n",
    "1.The training set, used to train the model.\n",
    "2.The validation set, used to track model parameters,hyper tuning of model and avoid overfitting.\n",
    "3.The testing set, used for checking the model’s performance on new data. \n",
    "Each subset serves a unique purpose in the iterative process of developing a machine-learning model."
   ]
  },
  {
   "cell_type": "markdown",
   "metadata": {},
   "source": [
    "Q7- How can unsupervised learning be used in anomaly detection?\n",
    "\n",
    "A7-In this technique, the model learns to identify anomalies without prior knowledge of what constitutes normal behavior. It is useful when there are no labeled datasets available or when anomalies are rare and difficult to find"
   ]
  },
  {
   "cell_type": "markdown",
   "metadata": {},
   "source": [
    "Q8- List down some commonly used supervised learning algorithms and unsupervised learning\n",
    "algorithms.\n",
    "\n",
    "A8-The most commonly used Supervised Learning algorithms are decision tree, logistic regression, linear regression, support vector machine etc\n",
    "\n",
    " The most commonly used Unsupervised Learning algorithms are k-means clustering, hierarchical clustering,apriori algorithm etc."
   ]
  }
 ],
 "metadata": {
  "language_info": {
   "name": "python"
  }
 },
 "nbformat": 4,
 "nbformat_minor": 2
}
