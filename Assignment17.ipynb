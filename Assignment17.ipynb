{
 "cells": [
  {
   "cell_type": "code",
   "execution_count": null,
   "id": "6d88a27f-c301-4c73-94bf-2df10a90e801",
   "metadata": {},
   "outputs": [],
   "source": [
    "#Q1. What is Web Scraping? Why is it Used? Give three areas where Web Scraping is used to get data.\n",
    "\"\"\"Web scrapping is a technique used to collect content and data from the internet which can be stored locally and later can be manipulated\n",
    "and analyzed.Areas where web scrapping is used are market reaseach,academic research,job opportunity,stock market analysis etc.\"\"\""
   ]
  },
  {
   "cell_type": "code",
   "execution_count": null,
   "id": "e6d7513c-9213-4b57-8ab7-0d97dbec5226",
   "metadata": {},
   "outputs": [],
   "source": [
    "#Q2. What are the different methods used for Web Scraping?\n",
    "\"\"\"The different methods used for web scrapping are:\n",
    " 1. By manually copy paste data from websites\n",
    " 2. Http request using programming language like python\n",
    " 3.Using browser automation tools\n",
    " 4. using API's\n",
    " 5.USing 3rd party web scrapping tools\"\"\""
   ]
  },
  {
   "cell_type": "code",
   "execution_count": null,
   "id": "4a4f0aeb-17e9-4de2-bb90-e657453139b3",
   "metadata": {},
   "outputs": [],
   "source": [
    "#Q3. What is Beautiful Soup? Why is it used?\n",
    "\"\"\"Beautiful Soup is a python library used to enhance the display of scrap result i.e text collected from url.It just beautifies it\n",
    "to make it more easily readable or enahnce its presentation.\"\"\""
   ]
  },
  {
   "cell_type": "code",
   "execution_count": null,
   "id": "28e92c82-4df4-45f4-a48e-8d15cf7d7f3a",
   "metadata": {},
   "outputs": [],
   "source": [
    "#Q4. Why is flask used in this Web Scraping project? \n",
    "\"\"\"Flask is used in web scraping projects to build interactive web applications around the scraped data. \n",
    "It helps create user interfaces, APIs, and automation,enhancing data presentation, user interaction, and data utilization. \n",
    "Additionally, Flask offers security, database integration, and easy deployment,making the project more versatile and accessible.\"\"\""
   ]
  },
  {
   "cell_type": "code",
   "execution_count": null,
   "id": "efbb5b41-b5fd-4663-b6a4-9642d22993f2",
   "metadata": {},
   "outputs": [],
   "source": [
    "#Q5. Write the names of AWS services used in this project. Also, explain the use of each service.\n",
    "\"\"\"The aws services used in this project are :\n",
    "1.AWS code pipeline-It focuses on automating the process of building, testing, and deploying application code through customizable pipelines.\n",
    "2.AWS elastic beanstalk-It simplifies application deployment and management, abstracting away infrastructure details.\"\"\""
   ]
  }
 ],
 "metadata": {
  "kernelspec": {
   "display_name": "Python 3 (ipykernel)",
   "language": "python",
   "name": "python3"
  },
  "language_info": {
   "codemirror_mode": {
    "name": "ipython",
    "version": 3
   },
   "file_extension": ".py",
   "mimetype": "text/x-python",
   "name": "python",
   "nbconvert_exporter": "python",
   "pygments_lexer": "ipython3",
   "version": "3.10.8"
  }
 },
 "nbformat": 4,
 "nbformat_minor": 5
}
